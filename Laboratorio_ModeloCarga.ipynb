{
 "cells": [
  {
   "cell_type": "markdown",
   "metadata": {},
   "source": [
    "# Notebook 1: Modelo de Carga\n",
    "En este notebook vamos a implementar el algoritmo de clustering jerárquico en R con ayuda de la función hclust. Utilizaremos como ejemplo el modelo de carga web visto durante la sesión y cuyos datos se encuentran en el archivo cargaWeb.csv"
   ]
  },
  {
   "cell_type": "code",
   "execution_count": 6,
   "metadata": {},
   "outputs": [
    {
     "name": "stdout",
     "output_type": "stream",
     "text": [
      "   Vnavega Vbusqueda VagregaCarro Vselecciona Vpaga\n",
      "1        5        12            2           5     1\n",
      "2       10        15            1          14     0\n",
      "3        4         7            2           4     1\n",
      "4       18        20            3          15     0\n",
      "5        4        12            2           7     1\n",
      "6        6        11            3           7     1\n",
      "7        7        12            2           7     1\n",
      "8        5         4            1           2     1\n",
      "9        7        10            1           8     1\n",
      "10      15        20            1          18     0\n"
     ]
    },
    {
     "data": {
      "text/plain": [
       "    Vnavega        Vbusqueda      VagregaCarro  Vselecciona       Vpaga     \n",
       " Min.   : 4.00   Min.   : 4.00   Min.   :1.0   Min.   : 2.0   Min.   :0.00  \n",
       " 1st Qu.: 5.00   1st Qu.:10.25   1st Qu.:1.0   1st Qu.: 5.5   1st Qu.:0.25  \n",
       " Median : 6.50   Median :12.00   Median :2.0   Median : 7.0   Median :1.00  \n",
       " Mean   : 8.10   Mean   :12.30   Mean   :1.8   Mean   : 8.7   Mean   :0.70  \n",
       " 3rd Qu.: 9.25   3rd Qu.:14.25   3rd Qu.:2.0   3rd Qu.:12.5   3rd Qu.:1.00  \n",
       " Max.   :18.00   Max.   :20.00   Max.   :3.0   Max.   :18.0   Max.   :1.00  "
      ]
     },
     "metadata": {},
     "output_type": "display_data"
    }
   ],
   "source": [
    "#ruta datos\n",
    "#lee datos del archivo de texto como una matriz. La primera #fila se utiliza \n",
    "#como vector de nombres de las columnas\n",
    "datos <-read.table(\"cargaWeb.csv\",dec=\".\",sep=\";\",header=TRUE)\n",
    "print(datos)\n",
    "summary(datos)"
   ]
  },
  {
   "cell_type": "code",
   "execution_count": 12,
   "metadata": {},
   "outputs": [
    {
     "data": {
      "image/png": "[encoded data removed]",
      "text/plain": [
       "Plot with title \"Cluster Dendrogram\""
      ]
     },
     "metadata": {},
     "output_type": "display_data"
    }
   ],
   "source": [
    "d <- dist(datos)\n",
    "hd <- hclust(d, method = \"single\", members=NULL)\n",
    "plot(hd, labels = NULL, hang = 0.1, axes = TRUE, frame.plot = FALSE, ann = TRUE, main = \"Cluster Dendrogram\",sub = NULL, xlab = NULL, ylab = \"Height\")\n"
   ]
  },
  {
   "cell_type": "markdown",
   "metadata": {},
   "source": [
    "### Ejercicio 1: \n",
    "1. Defina el número de grupos mas adecuado para estos datos y caracterice los grupos obtenidos.\n",
    "2. Considere las otras distancias entre grupos disponibles y descubra si hay diferencias en la jerarquía obtenida"
   ]
  },
  {
   "cell_type": "code",
   "execution_count": 13,
   "metadata": {},
   "outputs": [
    {
     "name": "stdout",
     "output_type": "stream",
     "text": [
      "Call:\n",
      "princomp(x = datos, cor = TRUE)\n",
      "\n",
      "Standard deviations:\n",
      "   Comp.1    Comp.2    Comp.3    Comp.4    Comp.5 \n",
      "1.9145280 1.0313641 0.4032833 0.2899160 0.1555054 \n",
      "\n",
      " 5  variables and  10 observations.\n"
     ]
    },
    {
     "data": {
      "image/png": "[encoded data removed]",
      "text/plain": [
       "Plot with title \"res\""
      ]
     },
     "metadata": {},
     "output_type": "display_data"
    },
    {
     "data": {
      "image/png": "[encoded data removed]",
      "text/plain": [
       "plot without title"
      ]
     },
     "metadata": {},
     "output_type": "display_data"
    }
   ],
   "source": [
    "#Análisis de Componentes Principales para graficar los grupos obtenidos\n",
    "#Calcula plano de componentes principales y grafica las observaciones con el número de su grupo\n",
    "res <- princomp(datos, cor=TRUE)\n",
    "print(res)\n",
    "plot(res)\n",
    "biplot(res,xlabs=cutree(hd,4))\n"
   ]
  },
  {
   "cell_type": "code",
   "execution_count": 4,
   "metadata": {},
   "outputs": [
    {
     "ename": "ERROR",
     "evalue": "Error in library(rattle): there is no package called 'rattle'\n",
     "output_type": "error",
     "traceback": [
      "Error in library(rattle): there is no package called 'rattle'\nTraceback:\n",
      "1. library(rattle)"
     ]
    }
   ],
   "source": [
    "library(rattle)\n",
    "#grafica los centros de cada grupo en el plano de componentes principales utilizando colores distintos\n",
    "biplot(res,xlabs=cutree(hd,4))\n",
    "centros <- centers.hclust(datos,hd,4)\n",
    "res2 <- predict(res,centros)\n",
    "print(res2)\n",
    "points(res2[,1:2],col=1:4,pch=19)"
   ]
  },
  {
   "cell_type": "markdown",
   "metadata": {},
   "source": [
    "### Ejercicio 2:\n",
    "1. Interprete el agrupamiento obtenido visualizado en el primer plano principal\n",
    "2. ¿Es representativo de los datos este primer plano principal? Justifique"
   ]
  },
  {
   "cell_type": "code",
   "execution_count": 2,
   "metadata": {},
   "outputs": [
    {
     "ename": "ERROR",
     "evalue": "Error in library(factoextra): there is no package called 'factoextra'\n",
     "output_type": "error",
     "traceback": [
      "Error in library(factoextra): there is no package called 'factoextra'\nTraceback:\n",
      "1. library(factoextra)"
     ]
    }
   ],
   "source": [
    "library(factoextra)\n",
    "library(ggpubr)\n",
    "\n",
    "\n",
    "fviz_dend(x = hd, k = 4, cex = 0.6) +\n",
    "  geom_hline(yintercept = 5, linetype = \"dashed\") +\n",
    "  labs(title = \"Agrupamiento Jeráquico\",\n",
    "       subtitle = \"Distancia euclídea, Lincage single, K=4\")\n",
    "\n",
    "fviz_cluster(object = list(data=datos, cluster=cutree(hd, k=4)),\n",
    "             ellipse.type = \"convex\", repel = TRUE, show.clust.cent = TRUE,\n",
    "             labelsize = 8)  +\n",
    "  labs(title = \"Agrupamiento Jeráquico + Proyección PCA\",\n",
    "       subtitle = \"Distancia euclídea, Lincage single, K=4\") +\n",
    "  theme_bw() +\n",
    "  theme(legend.position = \"bottom\")\n",
    "\n",
    "\n",
    "\n",
    "print(res)\n",
    "print(hd)\n",
    "\n",
    "#biplot(res, xlabs= cutree(res,4))"
   ]
  },
  {
   "cell_type": "code",
   "execution_count": null,
   "metadata": {},
   "outputs": [],
   "source": []
  }
 ],
 "metadata": {
  "celltoolbar": "Raw Cell Format",
  "kernelspec": {
   "display_name": "R",
   "language": "R",
   "name": "ir"
  },
  "language_info": {
   "codemirror_mode": "r",
   "file_extension": ".r",
   "mimetype": "text/x-r-source",
   "name": "R",
   "pygments_lexer": "r",
   "version": "3.6.1"
  }
 },
 "nbformat": 4,
 "nbformat_minor": 2
}

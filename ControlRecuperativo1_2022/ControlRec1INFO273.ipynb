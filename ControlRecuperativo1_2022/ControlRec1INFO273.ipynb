{
 "cells": [
  {
   "cell_type": "markdown",
   "metadata": {},
   "source": [
    "# Control Recuperativo N°1 INFO273-2022\n",
    "\n",
    "### Pregunta 1 (3 puntos)\n",
    "Se tienen trazas de la carga de trabajo en un cluster de servidores, de las cuales se ha extraído una muestra representativa de 20 trabajos, considerando por cada trabajo las principales medidas de uso de recursos del cluster.  La tabla \"datosCarga.csv\"  presenta las tasas de uso en 1 segundo de procesador, memoria y entrada/salida de la muestra de 20 trabajos.\n",
    "Se trata de caracterizar la carga de trabajo utilizando la distancia euclídea como métrica de agrupamiento.\n",
    "Para ello se solicita:\n",
    "\n",
    "(i) Realizar el agrupamiento considerando la función hclust de R. Justifique los parámetros utilizados.\n",
    "\n",
    "(ii) A partir del dendograma y los datos originales, decidir el número de grupos que es representativo de los distintos tipos de trabajos. Explique su decisión. \n",
    "\n",
    "(iii) Realizar un análisis de componentes principales con los datos  ¿Es representativo de los datos el primer plano principal? Justifique su respuesta.\n",
    "\n",
    "(iv) Representar los grupos definidos en (ii) en el primer plano principal. Calcular los valores medios en cada grupo y realizar una interpretación de cada uno. ¿Se valida la decisión tomada en (ii)?\n",
    "\n"
   ]
  },
  {
   "cell_type": "code",
   "execution_count": 3,
   "metadata": {},
   "outputs": [
    {
     "data": {
      "text/plain": [
       "      CPU              Mem_usada          Mem_max           CPU_max        \n",
       " Min.   :0.0003004   Min.   :0.06787   Min.   :0.06787   Min.   :0.005112  \n",
       " 1st Qu.:0.0005043   1st Qu.:0.08044   1st Qu.:0.08044   1st Qu.:0.016178  \n",
       " Median :0.0020430   Median :0.08600   Median :0.08667   Median :0.026745  \n",
       " Mean   :0.0134421   Mean   :0.08326   Mean   :0.08376   Mean   :0.055023  \n",
       " 3rd Qu.:0.0344550   3rd Qu.:0.08731   3rd Qu.:0.08862   3rd Qu.:0.109675  \n",
       " Max.   :0.0384500   Max.   :0.09106   Max.   :0.09106   Max.   :0.135300  \n",
       "     Disco          \n",
       " Min.   :0.0002146  \n",
       " 1st Qu.:0.0004818  \n",
       " Median :0.0009642  \n",
       " Mean   :0.0137614  \n",
       " 3rd Qu.:0.0244625  \n",
       " Max.   :0.0715300  "
      ]
     },
     "metadata": {},
     "output_type": "display_data"
    },
    {
     "data": {
      "image/png": "[encoded data removed]",
      "text/plain": [
       "plot without title"
      ]
     },
     "metadata": {
      "image/png": {
       "height": 420,
       "width": 420
      }
     },
     "output_type": "display_data"
    }
   ],
   "source": [
    "#ruta datos\n",
    "#lee datos del archivo de texto como una matriz. La primera #fila se utiliza \n",
    "#como vector de nombres de las columnas\n",
    "datos1 <-read.table(\"datosCarga.csv\",dec=\".\",sep=\";\",header=TRUE)\n",
    "summary(datos1)\n",
    "boxplot(datos1)\n",
    "\n"
   ]
  },
  {
   "cell_type": "markdown",
   "metadata": {},
   "source": [
    "### Pregunta 2 (3 puntos)\n",
    "De los resultados publicados de SPEC2017 para el índice de operaciones con coma flotante, se ha extraído en el archivo \"datosSpec.csv\" los valores obtenidos con dos servidores.\n",
    "\n",
    "Servidor A: ASUS ESC8000 G4(Z11PG-D24) Server System (3.40 GHz, Intel Xeon Gold 6246R)\n",
    "\n",
    "Servidor B: ASUS RS700A-E9V2(KNPP-D32-R) Server System (3.20 GHz, AMD EPYC 7F72)\n",
    "\n",
    "Para comparar su rendimiento se pide calcular:\n",
    "\n",
    "1) El índice de prestaciones al estilo SPEC para los servidores A y B, considerando el \"peak run time\". Interprete sus resultados. ¿qué consecuencias tiene considerar esta serie de tiempos en lugar de \"base time\"?\n",
    "\n",
    "2) Considerando la misma medida que en (1) para cada programa, comparar los rendimientos de los servidores A y B. Son significativas las diferencias?\n",
    "\n",
    "3) Compare sus resultados en (1) y (2). Son consistentes? Interprete a la luz de las configuraciones de ambos servidores."
   ]
  },
  {
   "cell_type": "code",
   "execution_count": 2,
   "metadata": {},
   "outputs": [
    {
     "name": "stdout",
     "output_type": "stream",
     "text": [
      "         Benchmark Reference_Time BaseRunTime_A PeakRunTime_A BaseRunTime_B\n",
      "1     603,bwaves_s            590           100           100           105\n",
      "2  607,cactuBSSN_s            167           102           102            64\n",
      "3        619,lbm_s             52            47            47            87\n",
      "4        621,wrf_s            132            84            82           111\n",
      "5       627,cam4_s             89            90            90            89\n",
      "6       628,pop2_s            119           155           153           217\n",
      "7    638,imagick_s            144           113           113            68\n",
      "8        644,nab_s            175            68            68            58\n",
      "9  649,fotonik3d_s             91            97            96            96\n",
      "10      654,roms_s            157            81            81            75\n",
      "   PeakRunTime_B\n",
      "1            105\n",
      "2             64\n",
      "3             87\n",
      "4            105\n",
      "5             89\n",
      "6            217\n",
      "7             68\n",
      "8             50\n",
      "9             96\n",
      "10            75\n"
     ]
    },
    {
     "data": {
      "text/plain": [
       " Reference_Time  BaseRunTime_A    PeakRunTime_A    BaseRunTime_B   \n",
       " Min.   : 52.0   Min.   : 47.00   Min.   : 47.00   Min.   : 58.00  \n",
       " 1st Qu.: 98.0   1st Qu.: 81.75   1st Qu.: 81.25   1st Qu.: 69.75  \n",
       " Median :138.0   Median : 93.50   Median : 93.00   Median : 88.00  \n",
       " Mean   :171.6   Mean   : 93.70   Mean   : 93.20   Mean   : 97.00  \n",
       " 3rd Qu.:164.5   3rd Qu.:101.50   3rd Qu.:101.50   3rd Qu.:102.75  \n",
       " Max.   :590.0   Max.   :155.00   Max.   :153.00   Max.   :217.00  "
      ]
     },
     "metadata": {},
     "output_type": "display_data"
    },
    {
     "data": {
      "image/png": "[encoded data removed]",
      "text/plain": [
       "plot without title"
      ]
     },
     "metadata": {
      "image/png": {
       "height": 420,
       "width": 420
      }
     },
     "output_type": "display_data"
    }
   ],
   "source": [
    "datos2 <-read.table(\"datosSPEC.csv\",dec=\",\",sep=\";\",header=TRUE)\n",
    "print(datos2)\n",
    "summary(datos2[,2:5])\n",
    "boxplot(datos2[,2:5])"
   ]
  },
  {
   "cell_type": "code",
   "execution_count": null,
   "metadata": {},
   "outputs": [],
   "source": []
  }
 ],
 "metadata": {
  "celltoolbar": "Raw Cell Format",
  "kernelspec": {
   "display_name": "R",
   "language": "R",
   "name": "ir"
  },
  "language_info": {
   "codemirror_mode": "r",
   "file_extension": ".r",
   "mimetype": "text/x-r-source",
   "name": "R",
   "pygments_lexer": "r",
   "version": "4.1.3"
  }
 },
 "nbformat": 4,
 "nbformat_minor": 2
}

{
 "cells": [
  {
   "cell_type": "markdown",
   "metadata": {},
   "source": [
    "## Control Recuperativo 2 INFO273 - 2022. Redes de Colas\n",
    "Utilice papel y lápiz para los desarrollos teóricos, les toma una foto y los incorpora como imagen en este notebook.\n",
    "Para las partes que requieren cáculos matemáticos utilice código incrustado (en R o Python según sea su conveniencia).\n",
    "Suba la carpeta comprimida con sus respuestas al espacio definido en siveducMD."
   ]
  },
  {
   "cell_type": "markdown",
   "metadata": {},
   "source": [
    "**Pregunta 1.** (3 puntos)\n",
    "Considere una base de datos distribuida compuesta por dos servidores (nodos 2 y 3) los cuales prestan servicio a K=10 clientes cuyo tiempo de reflexión se distribuye exponencial con media de $20[s]$ (nodo 1) . Suponga que cada consulta que realiza un cliente se procesa inicialmente en el servidor 2. Una vez completado el servicio en  un servidor, cada consulta  tiene igual probabilidad de requerir el servicio del otro servidor o completar el requerimiento y devolver la respuesta al cliente  ($q_{21} = q_{23} = q_{31} = q_{32}=0.5$). Los servidores poseen tasa de servicio exponencial $\\mu_1=1[c/s]$ y $\\mu_2= 0.2[c/s]$ respectivamente.\n",
    " \n",
    "**(a)** Modele este problema como una red de colas cerrada. Dibuje el grafo asociado.\n",
    "**(b)** Utilice cualquiera de los algoritmos que conoce para determinar número promedio de consultas en cada servidor (y su cola) y el tiempo medio de respuesta de cada uno y la tasa de proceso de la base de datos distribuida.  Comente sus resultados. \n",
    "**(c)** Suponga que el número de estaciones de trabajo (clientes) en el sistema es variable, con $k=2,11, ...30$.  Grafique el comportamiento de la tasa de proceso del sistema en función de $k$. Interprete sus resultados."
   ]
  },
  {
   "cell_type": "markdown",
   "metadata": {},
   "source": [
    "**Pregunta 2.**(3 puntos)\n",
    "Considere una red de colas abierta con 3 nodos cuyos servidores poseen tiempos de servicio exponencialmente distribuidos con valores medios de $E(s_1) = 0.09$, $E(s_2) = 0.06$ y $E(s_3) = 0.04[seg]$ respectivamente. Sólo al primer nodo llegan trabajos con una tasa de $4[trab/seg]$. El primer nodo es multiservidor con $m=2$, los otros nodos poseen un único servidor. La probabilidades de ruteo son:\n",
    "\n",
    "$$q_{11} = 0.2\\qquad q_{21} = 1\\qquad q_{31} = 0.5$$\n",
    "\n",
    "$$q_{12} = 0.4\\qquad q_{30} = 0.5\\qquad q_{13} = 0.4$$\n",
    "\n",
    "**(a)** Dibuje la red de colas y el grafo asociado.\n",
    "\n",
    "**(b)** Resuelva las ecs. de balance de flujo y determine la probabilidad en el equilibrio para el estado $n=(4,3,2)$\n",
    "\n",
    "**(c)** Determine todas las medidas de desempeño de la red. Comente sus resultados."
   ]
  },
  {
   "cell_type": "code",
   "execution_count": null,
   "metadata": {},
   "outputs": [],
   "source": []
  }
 ],
 "metadata": {
  "kernelspec": {
   "display_name": "R",
   "language": "R",
   "name": "ir"
  },
  "language_info": {
   "codemirror_mode": "r",
   "file_extension": ".r",
   "mimetype": "text/x-r-source",
   "name": "R",
   "pygments_lexer": "r",
   "version": "4.1.3"
  }
 },
 "nbformat": 4,
 "nbformat_minor": 2
}

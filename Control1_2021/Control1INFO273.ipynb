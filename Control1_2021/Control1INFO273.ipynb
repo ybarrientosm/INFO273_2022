{
 "cells": [
  {
   "cell_type": "markdown",
   "metadata": {},
   "source": [
    "# Control 1 INFO273-2021\n",
    "\n",
    "### Pregunta 1 (3 puntos)\n",
    "Se tienen trazas de la carga de trabajo en un cluster de servidores, de las cuales se ha extraído una muestra representativa de 20 trabajos, considerando por cada trabajo las principales medidas de uso de recursos del cluster.  La tabla \"datosCarga.csv\"  presenta las tasas de uso en 1 segundo de procesador, memoria y entrada/salida de la muestra de 20 trabajos.\n",
    "Se trata de caracterizar la carga de trabajo utilizando la distancia euclídea como métrica de agrupamiento.\n",
    "Para ello se solicita:\n",
    "\n",
    "(i) Realizar el agrupamiento considerando la función hclust de R. Justifique los parámetros utilizados.\n",
    "\n",
    "(ii) A partir del dendograma y los datos originales, decidir el número de grupos que es representativo de los distintos tipos de trabajos. Explique su decisión. \n",
    "\n",
    "(iii) Realizar un análisis de componentes principales con los datos  ¿Es representativo de los datos el primer plano principal? Justifique su respuesta.\n",
    "\n",
    "(iv) Representar los grupos definidos en (ii) en el primer plano principal. Calcular los valores medios en cada grupo y realizar una interpretación de cada uno. ¿Se valida la decisión tomada en (ii)?\n",
    "\n"
   ]
  },
  {
   "cell_type": "code",
   "execution_count": 13,
   "metadata": {},
   "outputs": [
    {
     "data": {
      "text/plain": [
       "      CPU              Mem_usada        Mem_asignada        Mem_max       \n",
       " Min.   :0.0003004   Min.   :0.06787   Min.   :0.07556   Min.   :0.06787  \n",
       " 1st Qu.:0.0005043   1st Qu.:0.08044   1st Qu.:0.08936   1st Qu.:0.08044  \n",
       " Median :0.0020430   Median :0.08600   Median :0.09680   Median :0.08667  \n",
       " Mean   :0.0134421   Mean   :0.08326   Mean   :0.09403   Mean   :0.08376  \n",
       " 3rd Qu.:0.0344550   3rd Qu.:0.08731   3rd Qu.:0.09912   3rd Qu.:0.08862  \n",
       " Max.   :0.0384500   Max.   :0.09106   Max.   :0.10110   Max.   :0.09106  \n",
       "    CPU_max             Disco          \n",
       " Min.   :0.005112   Min.   :0.0002146  \n",
       " 1st Qu.:0.016178   1st Qu.:0.0004818  \n",
       " Median :0.026745   Median :0.0009642  \n",
       " Mean   :0.055023   Mean   :0.0137614  \n",
       " 3rd Qu.:0.109675   3rd Qu.:0.0244625  \n",
       " Max.   :0.135300   Max.   :0.0715300  "
      ]
     },
     "metadata": {},
     "output_type": "display_data"
    },
    {
     "data": {
      "image/png": "[encoded data removed]",
      "text/plain": [
       "plot without title"
      ]
     },
     "metadata": {},
     "output_type": "display_data"
    }
   ],
   "source": [
    "#ruta datos\n",
    "#lee datos del archivo de texto como una matriz. La primera #fila se utiliza \n",
    "#como vector de nombres de las columnas\n",
    "datos1 <-read.table(\"datosCarga.csv\",dec=\".\",sep=\";\",header=TRUE)\n",
    "summary(datos1)\n",
    "boxplot(datos1)\n",
    "\n"
   ]
  },
  {
   "cell_type": "markdown",
   "metadata": {},
   "source": [
    "### Pregunta 2 (1 puntos)\n",
    "Se ha medido el tiempo de respuesta en milisegundos que dos sistemas tardan en ejecutar 10 programas distintos (tabla \"datosCompara.csv\"). Se pide determinar si existe una diferencia estadísticamente significativa entre ambos sistemas."
   ]
  },
  {
   "cell_type": "code",
   "execution_count": 12,
   "metadata": {},
   "outputs": [
    {
     "name": "stdout",
     "output_type": "stream",
     "text": [
      "   Programa  Sistema1  Sistema2\n",
      "1         1 0.3735753 0.4392694\n",
      "2         2 0.2808774 0.1452266\n",
      "3         3 0.0054599 0.0041405\n",
      "4         4 0.0381347 0.3679523\n",
      "5         5 0.2356411 0.4143013\n",
      "6         6 0.0801592 0.5203086\n",
      "7         7 0.1548014 0.0358922\n",
      "8         8 0.3624128 0.2634108\n",
      "9         9 0.2869101 0.3128587\n",
      "10       10 0.0797615 0.0496237\n"
     ]
    },
    {
     "data": {
      "text/plain": [
       "    Sistema1          Sistema2       \n",
       " Min.   :0.00546   Min.   :0.004141  \n",
       " 1st Qu.:0.07986   1st Qu.:0.073524  \n",
       " Median :0.19522   Median :0.288135  \n",
       " Mean   :0.18977   Mean   :0.255298  \n",
       " 3rd Qu.:0.28540   3rd Qu.:0.402714  \n",
       " Max.   :0.37358   Max.   :0.520309  "
      ]
     },
     "metadata": {},
     "output_type": "display_data"
    },
    {
     "data": {
      "image/png": "[encoded data removed]",
      "text/plain": [
       "plot without title"
      ]
     },
     "metadata": {},
     "output_type": "display_data"
    }
   ],
   "source": [
    "datos2 <-read.table(\"datosCompara.csv\",dec=\",\",sep=\";\",header=TRUE)\n",
    "print(datos2)\n",
    "summary(datos2[,2:3])\n",
    "boxplot(datos2[,2:3])"
   ]
  },
  {
   "cell_type": "markdown",
   "metadata": {},
   "source": [
    "### Pregunta 3 (2 puntos)\n",
    "\n",
    "i) Explique brevemente los conceptos de  monitoreo y benchmark de sistemas computacionales. Indique sus principales características y diferencias.\n",
    "\n",
    "ii) Para las herramientas que estudió en el taller de la unidad (tanto la que presentó como la que usó en el taller), realice un cuadro resumen que incluya principales características, ventajas y desventajas y  ámbitos de aplicación\n"
   ]
  },
  {
   "cell_type": "code",
   "execution_count": null,
   "metadata": {},
   "outputs": [],
   "source": []
  }
 ],
 "metadata": {
  "celltoolbar": "Raw Cell Format",
  "kernelspec": {
   "display_name": "R",
   "language": "R",
   "name": "ir"
  },
  "language_info": {
   "codemirror_mode": "r",
   "file_extension": ".r",
   "mimetype": "text/x-r-source",
   "name": "R",
   "pygments_lexer": "r",
   "version": "3.6.1"
  }
 },
 "nbformat": 4,
 "nbformat_minor": 2
}

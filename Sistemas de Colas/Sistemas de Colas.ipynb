{
 "cells": [
  {
   "cell_type": "markdown",
   "metadata": {},
   "source": [
    "# Sistemas de Colas\n",
    "En los modelos clásicos de colas de espera, cada dispositivo relevante del sistema computaciona será considerado como un servidor que recibe trabajos y los procesa. Eventualmente puede haber mas de un  servidor atendiendo la cola."
   ]
  },
  {
   "cell_type": "markdown",
   "metadata": {},
   "source": [
    "<img src=\"SistemaColas.png\" width=\"500\">"
   ]
  },
  {
   "cell_type": "markdown",
   "metadata": {},
   "source": [
    "### Estructura Básica de un sistema de colas\n",
    "(i) Modelos de Llegadas: \n",
    "\n",
    "* Determinista ($D$); $\\tau_i$ fijos\n",
    "* Proceso de Poisson ($M$) Llegadas aleatorias según el patrón siguiente:\n",
    "\n",
    "    Sea $n(T)$ el número de llegadas en el intervao $T$\n",
    "    $$P[n(T)=i] =\\frac{(\\lambda T)^i e^{-\\lambda T}}{i!}$$\n",
    "* Proceso Erlang de k etapas $(E_k)$\n",
    "* Distribución general $G$\n",
    "* Distribución general Independiente $GI$\n",
    "\n",
    "(ii) Modelos de Servicio: \n",
    "\n",
    "* Determinista ($D$); $s$ fijos\n",
    "* Proceso Exponencial ($M$) Tiempos de servicio aleatorios según el patrón siguiente:\n",
    "    $$F_s(t)= P[s \\leq t] = 1-  e^{-\\lambda t}$$\n",
    "* Proceso Hiperexponencial parámetro k $(E_k)$\n",
    "* Distribución general $G$\n",
    "* Distribución general Independiente $GI$\n",
    "\n",
    "(iii) Disciplina de la cola:\n",
    "\n",
    "* FCFS (First Coming First Served) El primer trabajo que llega es el primero en ser procesado. \n",
    "* LCFS (Last Coming First Served) El último trabajo que llega es el primero en ser procesado. Esto puede ocurrir de varios modos:\n",
    "    - Con desalojo: se detiene el proceso actual y comienza a ser procesado el trabajo que acaba de llegar. Para el proceso interrumpido existen dos formas de operar: iniciar el proceso desde el comienzo o bien guardar una copia del estado actual para continuar desde ahi cuando se desocupe el servidor.\n",
    "    - Sin desalojo: se espera al término del proceso actual para iniciar el servicio del trabajo que acaba de llegar.\n",
    "* PS (Procesor Sharing) Procesamiento compartido.\n",
    "* IS (Infinite server) Servidor Infinito: Cada vez que llega un trabajo, se genera una \"copia\" del servidor de manera que hay infinitos servidores. \n",
    "\n",
    "(iv) Notación de Kendall: $A/B/c/k/m$, en que:\n",
    "* A distribución de llegadas\n",
    "* B Distribución de tiempos de servicio\n",
    "* c Número de servidores\n",
    "* k Capacidad de la cola\n",
    "* m Tamaño de la población"
   ]
  },
  {
   "cell_type": "markdown",
   "metadata": {},
   "source": [
    "### Algunas medidas de desempeño y relaciones simples\n",
    "**(a) Intensidad de tráfico $I$:**\n",
    "    $$ I = \\frac{E(s)}{E(\\tau)} = \\frac{\\frac{1}{\\mu}}{\\frac{1}{\\lambda}} = \\frac{\\lambda}{\\mu}$$\n",
    "**(b)Factor de Utilización $U$:**\n",
    "$$U = min\\left \\{\\frac{\\lambda}{c\\mu},1\\right\\}$$\n",
    "con $c$ número de servidores en paralelo con tasa de proceso $\\mu$.\n",
    "Normalmente se cumple $\\lambda < c\\mu$, si no el sistema está saturado.\n",
    "\n",
    "**(c) Productividad $X$:**\n",
    "$$ X = \\frac{cU}{E(s)} = min \\{\\lambda, c\\mu\\}$$\n",
    "$X$ es igual a $\\lambda$ mientras $\\lambda \\leq \\mu$, en caso contrario se alcanza el valor de saturación.\n",
    "\n",
    "**(d) Tiempo medio de respuesta $R$:**\n",
    "$$R = E(q) + E(s)$$\n",
    "con $E(q)$ tiempo medio de espera y $E(s)$ tiempo medio de servicio\n",
    "\n",
    "**(e) Longitud de la cola $N_q(t)$:**\n",
    "$$N_q(t) = max\\{0,N(t) -c\\}$$\n",
    "donde $N(t)$ es el número de trabajos en el sistema en el tiempo $t$\n",
    "\n",
    "**(f) Percentiles de tiempo de espera y de tiempo de respuesta:**\n",
    "\n",
    "$\\pi_r(p)$: percentil $p$ del tiempo de respuesta $r$: $$\\pi_r(p) = x \\Leftrightarrow P(r \\leq x) =p$$\n",
    "una fracción $p$ de los trabajos pasan menos de $\\pi_r(p)$ unidades de tiempo en el sistema.\n",
    "\n",
    "$\\pi_q(p)$: percentil $p$ del tiempo de espera $q$: $$\\pi_q(p) = x \\Leftrightarrow P(q \\leq x) =p$$\n",
    "una fracción $p$ de los trabajos esperan menos de $\\pi_q(p)$ unidades de tiempo en la cola de espera.\n",
    "  \n",
    "**Equilibrio del sistema**  \n",
    "El estado de un sistema de colas está definido por la longitud de sus colas. Cuando un sistema comienza a funcionar, durante un tiempo su desempeño depende fuertemente de :\n",
    "* las condiciones iniciales\n",
    "* tiempo que lleva el sistema en operación\n",
    "\n",
    "En tal caso se dice que el sistema está en un estado *transiente*. Si a medida que el tiempo transcurre, la influencia de las condiciones iniciales tiene a desaparecer de manera que el desempeño del sistema se independiente de ellas, se dice que el sistema entra en estado estable o de *equilibrio*. Si el sistema està en equilibrio, el tiempo $t$ no determina el estado del sistema y se tiene:\n",
    "$$N = N_q + N_s$$\n",
    "en que $N$, $N_q$ y $N_s$ son v.a. discretas y entonces se define:\n",
    "$$L \\equiv E(N) = E(N_q) + E(N_s) \\equiv L_q + L_s$$\n",
    "\n",
    "Además se satisface\n",
    "\n",
    "**Ley de Little**\n",
    "\n",
    "Cuando un sistema se encuentra en el equilibrio se cumple:\n",
    "$$ L = \\lambda R$$\n",
    "$$ L_q = \\lambda E(q)$$\n",
    "\n",
    "Este resultado mas las relaciones:\n",
    "$$ R = E(s) + E(q)$$\n",
    "$$L = L_q + L_s$$\n",
    "\n",
    "permiten calcular cualquiera de las cuatro medidas de desempeño $R$, $E(q)$, $L$, $L_q$ a partir del valor de una de ellas (suponiendo que $\\lambda$ y $E(s)$ son conocidos)."
   ]
  },
  {
   "cell_type": "markdown",
   "metadata": {},
   "source": [
    "### Proceso de Poisson y algunas distribuciones asociadas\n",
    "**(i) Distribución Exponencial**\n",
    "Se usa habitualmente para representar tiempos entre eventos o tiempos de servicio.\n",
    "* Función de Distribución:\n",
    "$$F_X(x) = P(X \\leq x) = 1 - e^{-ax} \\qquad \\forall x \\geq 0$$ \n",
    "\n",
    "\n",
    "* Función de densidad de probabilidad:\n",
    "$$f_X(x) = a e^{-ax}$$\n",
    "\n",
    "\n",
    "* Esperanza de X:\n",
    "$$ E(X) = \\int_0^{\\infty} x f_X(x) dx = \\int_0^{\\infty} ax e^{-ax} dx $$\n",
    "\n",
    "Integrando por partes con $u=x$ y $v= -e^{-ax}$ se tiene:\n",
    "$$E(X) = x e^{-ax}{\\bracevert_0^{\\infty}} + \\int_0^{\\infty} e^{-ax} dx =  \\left(-\\frac{1}{a}\\right)e^{-ax}{\\bracevert_0^{\\infty}} = \\frac{1}{a}$$\n",
    "\n",
    "* Varianza de X:\n",
    "$$V(X) \\equiv E[(X-E(X))^2] = E(X^2) - [E(X)]^2 = \\frac{1}{a^2}$$\n"
   ]
  },
  {
   "cell_type": "code",
   "execution_count": 1,
   "metadata": {},
   "outputs": [
    {
     "data": {
      "image/png": "[encoded data removed]",
      "text/plain": [
       "Plot with title \"Distribución de Probabilidad Exponencial\""
      ]
     },
     "metadata": {
      "image/png": {
       "height": 480,
       "width": 960
      }
     },
     "output_type": "display_data"
    }
   ],
   "source": [
    "#simulación de distribución exponencial\n",
    "options(repr.plot.width=16, repr.plot.height=8)\n",
    "vec <- seq(0,5,by=0.05)\n",
    "par(mfrow=c(1,2))\n",
    "plot(vec,dexp(vec,2),type=\"l\", col=\"blue\",xlab=\"x\", ylab= \"Densidad de Probabilidad\", main = \"Densidad de Probabilidad Exponencial\")\n",
    "lines(vec,dexp(vec,1),col=\"red\")\n",
    "lines(vec,dexp(vec,0.5),col=\"green\")\n",
    "legend(2, 2, legend=c(\"a = 2\", \"a = 1\", \"a = 0.5\"),col=c(\"blue\",\"red\",\"green\"), lty=c(1,1,1))\n",
    "\n",
    "plot(vec,pexp(vec,2),type=\"l\", col=\"blue\",xlab=\"x\", ylab= \"Probabilidad Acumulada\", main = \"Distribución de Probabilidad Exponencial\")\n",
    "lines(vec,pexp(vec,1),col=\"red\")\n",
    "lines(vec,pexp(vec,0.5),col=\"green\")\n",
    "legend(2, 0.5, legend=c(\"a = 2\", \"a = 1\", \"a = 0.5\"),col=c(\"blue\",\"red\",\"green\"), lty=c(1,1,1))"
   ]
  },
  {
   "cell_type": "markdown",
   "metadata": {},
   "source": [
    "**Propiedad Sin Memoria**\n",
    "\n",
    "$$P(X\\leq x+t \\mid X>t ) = P(X\\leq x)$$\n",
    "\n",
    "**Demostración**\n",
    "\n",
    "\n",
    "$$P(X\\leq x+t \\mid X>t ) = \\frac{P(X\\leq x+t \\wedge X>t ) }{P(X>t )} = \\frac{F_X(x+t) -F_X(t)}{1-F_X(t)}\\qquad\\qquad\\qquad \\qquad \\qquad \\qquad$$\n",
    "\n",
    "$$\\qquad \\qquad = \\frac{1-e^{-a(x+t)} - (1 - e^{-at})}{1 - (1-e^{-at})} = \\frac{e^{-at}(1- e^{-ax})}{e^{-at}}= F_X(x) = P(X \\leq x)$$\n",
    "\n",
    "\n"
   ]
  },
  {
   "cell_type": "markdown",
   "metadata": {},
   "source": [
    "**(ii) Proceso de Poisson**\n",
    "\n",
    "Un proceso estocástico es una familia de v.a. \n",
    "$$\\{X(t), t \\in T\\}$$\n",
    "Cuando las v.a. toman sólo valores enteros, decimos que es un proceso puntual y se nota:\n",
    "$$\\{N(t), t \\in T\\}$$\n",
    "\n",
    "El **Proceso de Poisson** es un proceso puntual que permite modelar la ocurrencia de eventos en un intervalo de tiempo de largo t y cumple lo siguiente:\n",
    "\n",
    "**(a)** La probabilidad de un evento en $(t,t+\\Delta t)$ es $a\\Delta t + o(\\Delta t)$\n",
    "\n",
    "**(b)** La probabilidad de ocurrencias en $(t,t+\\Delta t)$ es independiente de lo ocurrido en el proceso antes de t\n",
    "\n",
    "**(c)** La probabilidad de mas de un evento en $(t,t+\\Delta t)$  es $o(\\Delta t)$.\n",
    "\n",
    "Bajo tales hipótesis, sea $N(t) =$ Número de eventos en el intervalo $(0,t)$, entonces se puede demostrar que $N(t)$ se distribuye según la ley de Poisson de media $at$, es decir:\n",
    "$$P(N(t) = n) = \\frac{(at)^n e^{-at}}{n!}, \\qquad \\qquad n =0,1,2,...$$\n",
    "\n"
   ]
  },
  {
   "cell_type": "code",
   "execution_count": 24,
   "metadata": {},
   "outputs": [
    {
     "data": {
      "image/png": "[encoded data removed]",
      "text/plain": [
       "Plot with title \"Distribución de Probabilidad Poisson\""
      ]
     },
     "metadata": {
      "image/png": {
       "height": 480,
       "width": 960
      }
     },
     "output_type": "display_data"
    }
   ],
   "source": [
    "#simulación de distribución Poisson\n",
    "options(repr.plot.width=16, repr.plot.height=8)\n",
    "vec <- seq(0,100,by=1)\n",
    "par(mfrow=c(1,2))\n",
    "plot(vec,dpois(vec,10),type=\"p\",pch=8, col=\"blue\",xlab=\"x\", ylab= \"Probabilidad de masa puntual\", main = \"Probabilidad Puntual Poisson\")\n",
    "points(vec,dpois(vec,20),pch=8,col=\"red\")\n",
    "points(vec,dpois(vec,50),pch=8, col=\"green\")\n",
    "legend(43,0.12, legend=c(\"a = 10\", \"a = 20\", \"a = 50\"),col=c(\"blue\",\"red\",\"green\"), lty=c(1,1,1))\n",
    "\n",
    "plot(vec,ppois(vec,10),type=\"p\",pch=8,  col=\"blue\",xlab=\"x\", ylab= \"Probabilidad Acumulada\", main = \"Distribución de Probabilidad Poisson\")\n",
    "points(vec,ppois(vec,20),pch=8, col=\"red\")\n",
    "points(vec,ppois(vec,50),pch=8, col=\"green\")\n",
    "legend(43, 0.2, legend=c(\"a = 10\", \"a = 20\", \"a = 50\"),col=c(\"blue\",\"red\",\"green\"), lty=c(1,1,1))"
   ]
  },
  {
   "cell_type": "markdown",
   "metadata": {},
   "source": [
    "**Lema:** Si $\\{N(t), t \\in T\\}$ es un proceso de Poisson, entonces los tiempos entre eventos se distribuyen según una ley exponencial"
   ]
  },
  {
   "cell_type": "markdown",
   "metadata": {},
   "source": [
    "**Demostración:**\n",
    "Para mostrar el lema, comenzamos por recordar las siguientes definiciones para una variable aleatoria continua con densidad de probabilidad en el interrvalo $[0,\\infty]$:\n",
    "\n",
    "$$S_X(x) = 1- F_X(x) = P(X>x) \\qquad \\qquad \\text{Función de Supervivencia}$$\n",
    "\n",
    "$$ h_X(x) = -\\frac{d}{dx}(ln S_X(x)) \\qquad \\qquad \\text{Función de Azar}$$\n",
    "\n",
    "Notar que se cumplen las siguientes relaciones:\n",
    "$$\\begin{eqnarray}\n",
    "S_X(x) & = & exp\\left\\{ -\\int_0^x h(u)du \\right\\}\\\\\n",
    "&&\\\\\n",
    "f_X(x) & = & -\\frac{d}{dx}(S_X(x))  = h(x) exp\\left\\{ -\\int_0^x h(u)du \\right\\}\\\\\n",
    "\\end{eqnarray}$$\n",
    "De manera que la distribución de probabilidad de $X$ se define de manera única, conociendo cualquiera de las cuatro funciones $F_X, f_X, h_X$ o $S_X$.\n",
    "\n",
    "Además:\n",
    "$$\\begin{eqnarray}\n",
    "h_X(x) & = & -\\frac{S'_X(x)}{S_X(x))}\\\\\n",
    "& = & \\lim_{\\Delta x \\to 0^+} \n",
    "\\frac{P(X>x) - P(X>x+\\Delta x)}{\\Delta x} \\frac{1}{P(X>x)}\\\\\n",
    "& = & \\lim_{\\Delta x \\to 0^+} \n",
    "\\frac{P(x < X < x+\\Delta x)}{\\Delta x} \\frac{1}{P(X>x)}\\\\\n",
    "\\end{eqnarray}$$\n",
    "\n"
   ]
  },
  {
   "cell_type": "markdown",
   "metadata": {},
   "source": [
    "Por otra parte en el caso en que $X \\sim \\text{Exponencial}(a)$ , se tiene:\n",
    "\n",
    "$$\\begin{eqnarray}\n",
    "S_X(x) & =& P(X>x) = 1 - P (X\\leq x) = 1- (1- e^{-ax}) = e^{-ax}\\\\\n",
    "&&\\\\\n",
    "\\implies ln S_X(x) & = & -ax\\\\\n",
    "&&\\\\\n",
    "\\implies h_x(x) & = & a\\\\\n",
    "\\end{eqnarray}$$\n",
    "\n",
    "con lo cual nos reencontramos con la propiedad de independencia del pasado para v.a. exponenciales y de la unicidad comentada previamente, se tiene:\n",
    "\n",
    "$$h_X(x) = a \\iff X \\sim \\text{Exponencial}(a)$$"
   ]
  },
  {
   "cell_type": "markdown",
   "metadata": {},
   "source": [
    "Por otra parte, en general se tiene que:\n",
    "$$\\begin{eqnarray}\n",
    "h_X(x) & = & -\\frac{S'_X(x)}{S_X(x))}\\\\\n",
    "& = & \\lim_{\\Delta x \\to 0^+} \n",
    "\\frac{P(X>x) - P(X>x+\\Delta x)}{\\Delta x} \\frac{1}{P(X>x)}\\\\\n",
    "& = & \\lim_{\\Delta x \\to 0^+} \n",
    "\\frac{P(x < X < x+\\Delta x)}{\\Delta x} \\frac{1}{P(X>x)}\\\\\n",
    "\\end{eqnarray}$$\n",
    "\n",
    "\n",
    "Ahora bien, de su definición, tenemos que para los tiempos entre eventos $\\tau$ en un proceso de Poisson se cumple:\n",
    "$$\\begin{eqnarray}\n",
    "h_{\\tau}(t) & = & \\lim_{\\Delta t \\to 0^+} \n",
    "\\frac{P(t < \\tau < t+\\Delta t)}{\\Delta t} \\frac{1}{P(\\tau>t)}\\\\\n",
    "&&\\\\\n",
    "& = & \\lim_{\\Delta t \\to 0^+} \n",
    "\\frac{P(\\text{un evento en}(t, t+\\Delta t) \\text{ y } \\tau>t)}{\\Delta t} \\frac{1}{P(\\tau>t)}\\\\\n",
    "&&\\\\\n",
    " & = & \\lim_{\\Delta t \\to 0^+} \n",
    "\\frac{P(\\text{un evento en}(t, t+\\Delta t))}{\\Delta t} \\frac{P(\\tau>t)}{P(\\tau>t)}\\\\\n",
    "&&\\\\\n",
    " & = & \\lim_{\\Delta t \\to 0^+} \n",
    "\\frac{a\\Delta t + o(\\Delta t)}{\\Delta t} = a\n",
    "\\end{eqnarray}$$\n",
    "\n",
    "Por lo tanto $\\tau$ se distribuye Exponencial de tasa $a$."
   ]
  },
  {
   "cell_type": "markdown",
   "metadata": {},
   "source": [
    "**Algunas Propiedades**\n",
    "\\begin{eqnarray}\n",
    "E(N(t)) & = & \\sum_{n=0}^{\\infty} n P(N(t)=n) = \\sum_{n=1}^{\\infty} n \\frac{(at)^n e^{-at}}{n!}\\\\\n",
    "&&\\\\\n",
    "& = & (at) \\sum_{n=1}^{\\infty} \\frac{(at)^{n-1} e^{-at}}{(n-1)!}\n",
    "= (at) \\sum_{n=0}^{\\infty} \\frac{(at)^{n} e^{-at}}{n!} = at\\\\\n",
    "\\end{eqnarray}\n",
    "\n",
    "$$Var(N(t)) = E(N(t)^2) - (E(N(t))^2 = at$$\n",
    "En efecto:\n",
    "\n",
    "\\begin{eqnarray}\n",
    "E(N(t)^2) & = & \\sum_{n=0}^{\\infty} n^2 P(N(t)=n) = \\sum_{n=1}^{\\infty} n^2 \\frac{(at)^n e^{-at}}{n!}\\\\\n",
    "&&\\\\\n",
    "& = & \\sum_{n=1}^{\\infty} n(n-1) \\frac{(at)^n e^{-at}}{n!} + \\sum_{n=1}^{\\infty} n \\frac{(at)^n e^{-at}}{n!}\\\\\n",
    "&&\\\\\n",
    "& = & \\sum_{n=2}^{\\infty} n(n-1) \\frac{(at)^n e^{-at}}{n!} + at\\\\\n",
    "&&\\\\\n",
    "& = & (at)^2 \\sum_{n=2}^{\\infty} \\frac{(at)^{n-2} e^{-at}}{(n-2)!} + at\\\\\n",
    "&&\\\\\n",
    "& = & (at)^2 \\sum_{n=0}^{\\infty} \\frac{(at)^{n} e^{-at}}{n!} + at= (at)^2  + at\\\\\n",
    "\\end{eqnarray}\n",
    "\n",
    "\n",
    "\n",
    "\n",
    "\n"
   ]
  },
  {
   "cell_type": "markdown",
   "metadata": {},
   "source": [
    "*Superposición de Llegadas Poisson:* La agregación de procesos Poisson de tasas $a_1,\\cdots, a_m$ resulta en un proceso de Poisson de tasa $a_1+\\cdots+ a_m$"
   ]
  },
  {
   "cell_type": "markdown",
   "metadata": {},
   "source": [
    "*Descomposición de Llegadas Poisson:* Un proceso de Poisson de tasa $a$ que se distribuye en $m$ dispositivos con probabilidades $p_1,\\cdots, p_m$ resulta en m  procesos de Poisson de tasas $ap_1+\\cdots+ ap_m$"
   ]
  }
 ],
 "metadata": {
  "celltoolbar": "Raw Cell Format",
  "kernelspec": {
   "display_name": "R",
   "language": "R",
   "name": "ir"
  },
  "language_info": {
   "codemirror_mode": "r",
   "file_extension": ".r",
   "mimetype": "text/x-r-source",
   "name": "R",
   "pygments_lexer": "r",
   "version": "4.0.5"
  }
 },
 "nbformat": 4,
 "nbformat_minor": 2
}

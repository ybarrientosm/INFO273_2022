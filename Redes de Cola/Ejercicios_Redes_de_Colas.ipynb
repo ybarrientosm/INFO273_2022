{
 "cells": [
  {
   "cell_type": "markdown",
   "metadata": {},
   "source": [
    "### Ejercicios Propuestos\n",
    "**1.** Suponga que dos arreglos de discos están disponibles en una red para servir un tráfico de E/S de $\\gamma= 6.000$ requerimientos por minuto, que siguen una distribución de Poisson. Un arreglo de discos es más rápido que el otro: requiere en promedio 5[ms] para completar una operación de E/S, mientras el otro requiere 10[ms]. Ambos con tiempos de servicio exponencial. \n",
    "\n",
    "**(a)** Determine las tasas de servicio en función de $p$, la probabilidad de que un requerimiento sea servido por el primer arreglo de discos y $\\gamma$ la tasa de llegadas al sistema.\n",
    "\n",
    "**(b)** Determine la fracción del tráfico total $p$ que debería dirigirse al arreglo más rápido para minimizar el tiempo medio de respuesta de una operación de E/S.\n",
    "\n",
    "\n"
   ]
  },
  {
   "cell_type": "markdown",
   "metadata": {},
   "source": [
    "**R.** $p=0.828$"
   ]
  },
  {
   "cell_type": "markdown",
   "metadata": {},
   "source": [
    "**2.** Considere una red de colas abierta con 3 nodos cuyos servidores poseen tiempos de servicio exponencialmente distribuidos con valores medios de $E(s_1) = 0.09$, $E(s_2) = 0.06$ y $E(s_3) = 0.04[seg]$ respectivamente. Sólo al primer nodo llegan trabajos \n",
    "con una tasa de $4[trab/seg]$. El primer nodo es multiservidor con $m=2$, los otros nodos poseen un único servidor. La probabilidades de ruteo son:\n",
    "\n",
    "$$q_{11} = 0.2\\qquad q_{21} = 1\\qquad q_{31} = 0.5$$\n",
    "\n",
    "$$q_{12} = 0.4\\qquad q_{30} = 0.5\\qquad q_{13} = 0.4$$\n",
    "\n",
    "**(a)** Dibuje la red de colas y el grafo asociado.\n",
    "\n",
    "**(b)** Determine la probabilidad en el equilibrio para el estado $n=(4,3,2)$\n",
    "\n",
    "**(c)** Determine todas las medidas de desempeño de la red.\n"
   ]
  },
  {
   "cell_type": "markdown",
   "metadata": {},
   "source": [
    "**R.** \n",
    "**(b)** $\\pi(4,3,2) = 0.0002765555$\n",
    "\n",
    "**(c)**\n",
    "$$L_1 = 9.4736842, \\qquad L_2=0.9230769, \\qquad L_3= 0.4705882$$\n",
    "\n",
    "$$R_1 = 0.47368421[s], \\qquad R_2 = 0.11538462[s], \\qquad R_3 = 0.05882353[s]$$\n",
    "\n",
    "$$L = 10.867349, \\qquad R= 2.716837[s]$$"
   ]
  },
  {
   "cell_type": "markdown",
   "metadata": {},
   "source": [
    "**3.** Considere una red de colas consistente de dos pre-procesadores (Nodos 1 y 2) con tasas de servicio $\\mu_1 = 10 [t/s]$ y $\\mu_2 = 20 [t/s]$, cuya salida se encuentra conectada a un procesador central (Nodo 3)cuya tasa de servicio es $\\mu_3= 30[t/s]$.\n",
    "\n",
    "Los trabajos llegan a los pre-procesadores con tasas $\\gamma_1=2 [t/s]$ y $\\gamma_2=4 [t/s]$ respectivamente. Una vez servidos en un pre-procesador pasan al servidor central o seguirá siendo pre-procesados en el otro preprocesador.\n",
    "\n",
    "La probabilidades de ruteo son:\n",
    "\n",
    "$$q_{12} = 0.6\\qquad q_{13} = 0.4\\qquad q_{30} = 1$$\n",
    "\n",
    "$$q_{21} = 0.2\\qquad q_{23} = 0.8$$\n",
    "\n",
    "**(a)** Dibuje la red de colas, el grafo asociado y las tasas de proceso de cada nodo.\n",
    "\n",
    "**(b)** Deduzca una expresión para la probabilidad en el equilibrio del número de trabajos que están siendo procesados, suponiendo que los tiempos de servicio y entre llegadas son exponenciales e independientes.\n",
    "\n",
    "**(c)** Determine todas las medidas de desempeño de la red."
   ]
  },
  {
   "cell_type": "markdown",
   "metadata": {},
   "source": [
    "**(a)** La red colas queda:\n",
    "<img src=\"modelo9.png\" width=\"500\">\n",
    "\n",
    "\n",
    "y el grafo:\n",
    "<img src=\"grafo9.png\" width=\"400\">\n"
   ]
  },
  {
   "cell_type": "markdown",
   "metadata": {},
   "source": [
    "De manera que las ecuaciones de balance de flujo quedan:\n",
    "$$\\lambda_1 = \\gamma_1 + q_{21}\\lambda_2$$\n",
    "$$\\lambda_2 = \\gamma_2 + q_{12}\\lambda_1$$\n",
    "$$\\lambda_3 = q_{13}\\lambda_1 + q_{23}\\lambda_2$$\n",
    "\n",
    "reemplazando (2) en (1) tenemos:\n",
    "$$\\lambda_1(1-q_{21}\\cdot q_{12}) = \\gamma_1 + q_{21}\\gamma_2$$\n",
    "asi\n",
    "$$\\lambda_1 = \\frac{\\gamma_1 + q_{21}\\gamma_2}{1-q_{21}\\cdot q_{12}}\n",
    "= \\frac{2 + 0.2\\cdot 4}{1-0.2\\cdot 0.6}= \\frac{2.8}{0.88}=\\frac{70}{22} $$"
   ]
  },
  {
   "cell_type": "markdown",
   "metadata": {},
   "source": [
    "**R.** \n",
    "**(b)** \n",
    "$$\\pi(n_1,n_2,n_3) = \\rho_1^{n_1}(1-\\rho_1)\\rho_2^{n_2}(1-\\rho_2)\\rho_3^{n_3}(1-\\rho_3)$$\n",
    "con \n",
    "$$\\rho_1 =\\frac{7}{22}, \\qquad \\rho_2 = \\frac{13}{44}, \\qquad \\rho_3= \\frac{1}{5}$$\n",
    "\n",
    "**(c)**\n",
    "$$L_1 = \\frac{7}{15}, \\qquad L_2=\\frac{13}{31}, \\qquad L_3= \\frac{1}{4}$$\n",
    "\n",
    "$$R_1 = \\frac{11}{75}[s], \\qquad R_2 = \\frac{11}{155} [s], \\qquad R_3 = {1}{24}[s]$$\n",
    "\n",
    "$$L = 1.136, \\qquad R= 0.1893[s]$$"
   ]
  },
  {
   "cell_type": "markdown",
   "metadata": {},
   "source": [
    "**4.** Considere una base de datos distribuida compuesta por dos servidores los cuales\n",
    " prestan servicio a 10 clientes  que se mueven entre ellos. Suponga que cada cliente\n",
    " que realiza una consulta en un servidor tiene igual probabilidad de dirigirse al otro \n",
    " servidor o volver al servidor actual ($q_{12} = q_{21} = 0.5$). Los servidores poseen tasa \n",
    " de servicio exponencial $\\mu_1=100[c/s]$ y $\\mu_2= 40[c/s]$ respectivamente.\n",
    " \n",
    "**(a)** Modele este problema como una red de colas cerrada. Dibuje el grafo asociado.\n",
    " \n",
    "**(b)** Utilice cualquiera de los algoritmos que conoce para determinar número promedio de consultas en cada servidor (y su cola) y el tiempo medio de respuesta de cada uno.\n",
    "\n",
    "\n"
   ]
  },
  {
   "cell_type": "markdown",
   "metadata": {},
   "source": [
    "**R.**\n",
    "**(b)**\n",
    "$$L_1 = 0.66620527, \\qquad L_2=9.3337947$$\n",
    "\n",
    "$$R_1 = 0.01665618[s], \\qquad R_2 = 0.2333596[s]$$\n",
    " "
   ]
  },
  {
   "cell_type": "markdown",
   "metadata": {},
   "source": [
    "**5.** Determine la utilización de la CPU y las otras medidas de desempeño de un modelo de servidor central con $M=3$ nodos y $K=4$ trabajos. Cada nodo tiene un sólo servidor y su disciplina es FCFS. Los tiempos de servicio se distribuyen exponencial, con valores medios:\n",
    "$$E(s_1) = 2[ms] \\qquad E(s_2) =5[ms] \\qquad E(s_13 = 5[ms]$$\n",
    "y probabilidades de ruteo:\n",
    "$$p_{11}= 0.3, \\qquad p_{12}= 0.5, \\qquad p_{13}= 0.2, \\qquad p_{21}= p_{31} = 1$$"
   ]
  },
  {
   "cell_type": "markdown",
   "metadata": {},
   "source": [
    "**R.** \n",
    "El nodo $1$ representa a la CPU:\n",
    "\n",
    "$$U_1 = 0.674866, \\qquad U_2=0.8435825, \\qquad U_3=0.337433$$\n",
    "\n",
    "$$L_1 = 1.396405, \\qquad L_2=2.1286660, \\qquad L_2=0.474929$$\n",
    "\n",
    "$$R_1 = 4.138318[ms], \\qquad R_2 = 12.6168224[ms], \\qquad R_3 = 7.037383[ms]$$\n",
    " "
   ]
  },
  {
   "cell_type": "markdown",
   "metadata": {},
   "source": [
    "**6.** Considere una red de colas cerrada con $K=3$ trabajos, $M=3$ nodos con disciplina de colas FCFS y  con tiempos de servicio exponencial con los siguientes tasas de servicio:\n",
    "$$\\mu_1 = 0.4[s^{-1}] \\qquad \\mu_2 = 0.6[s^{-1}] \\qquad \\mu_3 = 0.3[s^{-1}]$$\n",
    "\n",
    "El nodo 1 tiene dos servidores y los otros dos nodos sólo un servidor cada uno.\n",
    "Las probabilidades de ruteo son:\n",
    "$$\n",
    "\\begin{array}{lll}\n",
    "q_{11} = 0.6, & q_{21}=0.5, & q_{31}=0.4, \\\\\n",
    "q_{12}=0.3, & q_{22}=0.0, & q_{32}=0.6,\\\\\n",
    "q_{13}=0.1, & q_{23}=0.5, & q_{33}=0.0\\\\\n",
    "\\end{array}\n",
    "$$\n",
    "\n",
    "**(a)** Dibuje la red de colas y el grafo asociado\n",
    "\n",
    "**(b)** ¿Cuál es la probabilidad en el equlibrio de que hayan 2 trabajos en el nodo 2?\n",
    "\n",
    "**(c)** Calcule todas las medidas de desempeño de la red."
   ]
  },
  {
   "cell_type": "markdown",
   "metadata": {},
   "source": [
    "**R.** \n",
    "**(b)** \n",
    "$$\\pi(n_2=2) = 0.1556623$$\n",
    "\n",
    "**(c)**\n",
    "$$U_1 = 0.8282348, \\qquad U_2=0.5022121, \\qquad U_3= 0.5022121$$\n",
    "\n",
    "$$L_1 = 1.5124861, \\qquad L_2=0.7437569, \\qquad L_3= 0.7437569$$\n",
    "\n",
    "$$R_1 = 2.8682365[s], \\qquad R_2 = 2.4682699[s], \\qquad R_3 = 4.9365397[s]$$\n"
   ]
  },
  {
   "cell_type": "markdown",
   "metadata": {},
   "source": [
    "**7.** Considere un sistema cliente-servidor en que los clientes $K=10$ se conectan a una base de datos mediante una red Ethernet. El servidor se compone de una sola CPU (Nodo 3) con tasa de servicio $\\mu_3 = 16.7 [s^{-1}]$ y un solo disco (Nodo 4) con tasa de servicio $\\mu_4 = 18.5 [s^{-1}]$. El nodo 2 modela la red Ethernet considerando que el número promedio de paquetes que genera un requerimiento es $N_p = 7$, el ancho de banda es $B=10[Mb/s]$, el tiempo medio de detección de colisiones de $S=51.2[\\mu s]$ y el largo promedio de los paquetes  es $L_p=1518 [b]$. Con esto, se modela la tasa de servicio del nodo 2 de la manera siguiente:\n",
    "\n",
    "$$\\mu_2(j) = \\left \\{\\begin{array}{ll}\n",
    "(\\frac{1}{N_p} \\frac{L_p}{B} )^{-1}  & j=1\\\\\n",
    "&\\\\\n",
    "\\left(\\frac{1}{N_p} \\frac{L_p}{B} + S \\, C(j) \\right)^{-1} & j \\gt 1\\\\\n",
    "\\end{array} \\right. $$\n",
    "\n",
    "con $C(j)$ es el número medio de colisiones cuando hay j requerimientos en el nodo red y se calcula como:\n",
    "\n",
    "$$C(j) = \\frac{1-A(j)}{A(j)} \\qquad \\text{donde } A(j) = \\left(1- \\frac{1}{j+1}\\right)^{j} \\text{ la probabilidad de éxito de la transmisión}$$\n",
    "\n",
    "La tasa media de reflexión de los clientes (Nodo 1) es $\\mu_1 = 0.1[s^{-1}]$ \n",
    "\n",
    "Modele este sistema como una red de colas cerradas en que suponemos tiempos de servicio exponencial en cada nodo y las siguientes probabilidades de ruteo:\n",
    "\n",
    "$$q_{12} = 1 \\qquad q_{23} = 0.5 \\qquad q_{21} = 0.5 $$\n",
    "\n",
    "$$q_{32} = 0.5 \\qquad q_{34} = 0.5\\qquad q_{43} = 1$$\n",
    "\n",
    "**(a)** Dibuje la red de colas y el grafo asociado.\n",
    "\n",
    "**(b)** Determine todas las medidas de desempeño de la red.\n",
    "\n",
    "**(c)** Suponga que el número de estaciones de trabajo (clientes) en el sistema es variable, con $k=10,11, ...30$ grafique el comportamiento de la tasa de proceso del sistema en función de $k$\n",
    "\n"
   ]
  },
  {
   "cell_type": "markdown",
   "metadata": {},
   "source": [
    "**R.** \n",
    "**(b)** \n",
    "$$U_1 = 1.0000000, \\qquad U_2=0.04238965, \\qquad U_3= 0.11700499, \\qquad U_4= 0.05281036$$\n",
    "\n",
    "$$L_1 = 9.7699167, \\qquad L_2=0.04406775, \\qquad L_3= 0.13058448, \\qquad L_4=0.05543111$$\n",
    "\n",
    "$$R_1 = 10[s], \\qquad R_2 = 0.02255278[s], \\qquad R_3 = 0.06682988[s], \\qquad R_4 = 0.05673652$$\n"
   ]
  },
  {
   "cell_type": "markdown",
   "metadata": {},
   "source": [
    "**(c)**\n",
    "La tasa de proceso tiene un crecimiento lineal en el rango definido de K=10,...30"
   ]
  },
  {
   "cell_type": "code",
   "execution_count": null,
   "metadata": {},
   "outputs": [],
   "source": []
  }
 ],
 "metadata": {
  "celltoolbar": "Slideshow",
  "kernelspec": {
   "display_name": "R",
   "language": "R",
   "name": "ir"
  },
  "language_info": {
   "codemirror_mode": "r",
   "file_extension": ".r",
   "mimetype": "text/x-r-source",
   "name": "R",
   "pygments_lexer": "r",
   "version": "4.0.5"
  }
 },
 "nbformat": 4,
 "nbformat_minor": 2
}

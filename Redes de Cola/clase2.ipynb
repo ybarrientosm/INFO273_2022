{
 "cells": [
  {
   "cell_type": "markdown",
   "metadata": {
    "slideshow": {
     "slide_type": "slide"
    }
   },
   "source": [
    "## Redes de Jackson\n",
    "Una red de Jackson con nodos $1,2,\\cdots,M$ se define como sigue:\n",
    "- el tiempo de servicio del nodo $i$ tiene una distribución exponencial de tasa $\\mu_i(n)$, con $n$ el número de trabajos en el nodo.\n",
    "- un trabajo que termina su servicio en un nodo, escoge con alguna probabilidad dejar el sistema o ingresar a otro nodo, independientemente de su historia\n",
    "- la red es abierta y las llegadas externas al nodo $i$ siguen un proceso de Poisson.\n",
    "\n",
    "El espacio de estados en una red de Jackson está dado por:\n",
    "\n",
    "$$ S = \\{ \\vec{n} = (n_1,\\cdots,n_M) \\in \\mathbb{N}^M \\mid n_i \\geq 0\\}$$"
   ]
  },
  {
   "cell_type": "markdown",
   "metadata": {
    "slideshow": {
     "slide_type": "slide"
    }
   },
   "source": [
    "## Teorema de Jackson\n",
    "Para una red de Jackson en estado de equilibrio con tasa de proceso $\\lambda_i$ en el nodo $i$ se tiene:\n",
    "- El número de clientes en cada nodo es independientne del número de clientes en los otros nodos.\n",
    "- El nodo $i$ se comporta estocásticamente como una cola con distribución de llegadas Poisson de tasa $\\lambda_i$\n",
    "Mas precisamente, en el equilibrio se cumple:\n",
    "\n",
    "$$\\Pi(n_1,\\cdots,n_m) = \\prod_{i=1}^M \\pi_i(n_i), \\qquad \\qquad \\pi_i(n_i) =  \\pi_i(0) \\frac{\\lambda_i^{n_i}}{\\prod_{j=1}^{n_i} \\mu_i(j)}$$\n",
    "\n",
    "### Corolario: \n",
    "Si cada nodo $i$ es del tipo SSFR con tasa de servicio $\\mu_i$, entonces se comporta como una cola M/M/1 independiente, con lo cual\n",
    "$$\\Pi(n_1,\\cdots,n_m) = \\prod_{i=1}^M (1-\\rho_i)\\rho_i^{n_i},\\qquad\\qquad \\rho_i = \\frac{\\lambda_i}{\\mu_i}$$"
   ]
  },
  {
   "cell_type": "markdown",
   "metadata": {},
   "source": [
    "### Demostración del Teorema de Jackson\n",
    "En el equilibrio se debe cumplir que el flujo de probabilidades entrantes en cada estado ${\\bf n}=(n_1,\\cdots,n_M)$ debe ser igual al flujo de probabilidades salientes. Ahora bien, como tanto los procesos de llegadas como de servicio son Poisson, se cumple la propiedad de que no pueden ocurrir dos eventos simultáneamente. Es por ello que desde un estado particular ${\\bf n}=(n_1,\\cdots,n_M)$ sólo se puede transitar en un instante a un estado \"vecino\", correspondiente a 3 casos:\n",
    "- un trabajo termina su servicio en el nodo $i$ y pasa al nodo $j$\n",
    "- un trabajo termina su servicio en el nodo $i$ y sale fuera del sistema\n",
    "- un trabajo ingresa desde fuera del sistema al nodo $i$\n",
    "\n",
    "Para modelos estos casos, adpotaremos la notación siguiente: dado el estado ${\\bf n}=(n_1,\\cdots,n_M)$, denominaremos:\n",
    "- ${\\bf n}_{i}^j= (n_1,\\cdots,n_i-1,\\cdots,n_j+1,\\cdots,n_M)$ el estado que corresponde a que, estando previamente el sistema en el estado ${\\bf n}$, un trabajo termina su servicio en el nodo $i$ y pasa al nodo $j$.\n",
    "\n",
    "- ${\\bf n}_{i}= (n_1,\\cdots,n_i-1,\\cdots,n_M)$ el estado que corresponde a que, estando previamente el sistema en el estado ${\\bf n}$, un trabajo termina su servicio en el nodo $i$ y sale fuera del sistema.\n",
    "\n",
    "- ${\\bf n}^i = (n_1,\\cdots,n_i+1,\\cdots,n_M)$ el estado que corresponde a que, estando previamente el sistema en el estado ${\\bf n}$, llega un trabajo de fuera del sistema al nodo $i$.\n",
    "\n",
    "\n",
    "\n"
   ]
  },
  {
   "cell_type": "markdown",
   "metadata": {},
   "source": [
    "De esta manera, se pueden plantear las ecuaciones de balance de probabilidades para cada estado ${\\bf n}\\in S$ dependiente de un evento en el nodo $i$, del modo siguiente:\n",
    "$$Flujo\\, saliente = Flujo \\,entrante$$\n",
    "$$ \\left (\\pi({\\bf n}) \\sum_{j=1}^M \\mu_i(n_i) q_{ij} + \\mu_i(n_i) q_{i0}\\right){\\cal 1}_{\\{n_i>0\\}}\n",
    "= \\sum_{j=1,j\\neq i}^M \\pi({\\bf n}_i^j)\\mu_j(n_j+1) q_{ji} + \\pi({\\bf n_i})\\gamma q_{0i}+ \\pi({\\bf n})\\mu_i(n_i) q_{ii}{\\cal 1}_{\\{n_i>0\\}}\\qquad i=1,\\cdots,M$$\n",
    "\n",
    "y de manera global, es decir considerando los eventos en los $i=1,\\cdots,M$ nodos, se tiene:\n",
    "$$ \\sum_{i=1}^M \\pi({\\bf n})\\left(\\sum_{j=1}^M \\mu_i(n_i) q_{ij} + \\mu_i(n_i) q_{i0}\\right){\\cal 1}_{\\{n_i>0\\}}\n",
    "= \\sum_{i=1}^M \\sum_{j=1,j\\neq i}^M \\pi({\\bf n}_i^j)\\mu_j(n_j+1) q_{ji} + \\sum_{i=1}^M \\left(\\pi({\\bf n_i})\\gamma q_{0i}+ \\pi({\\bf n})\\mu_i(n_i) q_{ii}{\\cal 1}_{\\{n_i>0\\}}\\right)$$"
   ]
  },
  {
   "cell_type": "markdown",
   "metadata": {},
   "source": [
    "La demostración del Teorema de Jackson es por construcción, es decir, mostraremos que las probabilidades en el equilibrio definidas en el teorema cumplen las ecuaciones previas. Y por unicidad de la solución, esas deben ser las probabilidades en el equilibrio.\n",
    "En efecto, si reeemplazamos\n",
    "$$\\pi({\\bf n}) = \\pi(n_1,\\cdots,n_m) = \\prod_{i=1}^M \\pi_i(n_i), \\qquad \\qquad \\pi_i(n_i) =  \\pi_i(0) \\frac{\\lambda_i^{n_i}}{\\prod_{j=1}^{n_i} \\mu_i(j)}$$\n",
    "en las ecuaciones anteriores, se tiene:"
   ]
  },
  {
   "cell_type": "markdown",
   "metadata": {},
   "source": [
    "$$\\left(\\prod_{i=1}^M \\pi_i(0) \\frac{\\lambda_i^{n_i}}{\\prod_{j=1}^{n_i} \\mu_i(j)}\\right)\\left( \\sum_{j=1}^M \\mu_i(n_i) q_{ij} + \\mu_i(n_i) q_{i0}\\right){\\cal 1}_{\\{n_i>0\\}}\n",
    "= \\sum_{j=1,j\\neq i}^M \\left(\\prod_{i=1}^M \\pi_i(0) \\frac{\\lambda_i^{n_i}}{\\prod_{j=1}^{n_i} \\mu_i(j)}\\frac{\\lambda_j}{\\mu_j(n_j+1)} \\frac{\\mu_i(n_i)}{\\lambda_i}\\right) \\mu_j(n_j+1) q_{ji}\\qquad\\qquad\\qquad \\qquad\\qquad\\qquad $$\n",
    "\n",
    "$$\\qquad\\qquad\\qquad \\qquad\\qquad\\qquad + \n",
    "\\left(\\prod_{i=1}^M \\pi_i(0) \\frac{\\lambda_i^{n_i}}{\\prod_{j=1}^{n_i} \\mu_i(j)} \\frac{\\mu_i(n_i)}{\\lambda_i} \\right)\\gamma q_{0i}+ \n",
    "\\left(\\prod_{i=1}^M \\pi_i(0) \\frac{\\lambda_i^{n_i}}{\\prod_{j=1}^{n_i} \\mu_i(j)} \\right) \\mu_i(n_i) q_{ii}{\\cal 1}_{\\{n_i>0\\}}\\qquad i=1,\\cdots,M $$\n"
   ]
  },
  {
   "cell_type": "markdown",
   "metadata": {},
   "source": [
    "Simplificando los términos comunes a ambos lados de la ecuación se tiene:\n",
    "$$\\left( \\sum_{j=1}^M \\mu_i(n_i) q_{ij} + \\mu_i(n_i) q_{i0}\\right){\\cal 1}_{\\{n_i>0\\}}\n",
    "= \\sum_{j=1,j\\neq i}^M \\frac{\\lambda_j}{\\mu_j(n_j+1)} \\frac{\\mu_i(n_i)}{\\lambda_i} \\mu_j(n_j+1) q_{ji}+ \n",
    " \\frac{\\mu_i(n_i)}{\\lambda_i} \\gamma q_{0i}+ \n",
    " \\mu_i(n_i) q_{ii}{\\cal 1}_{\\{n_i>0\\}}\\qquad i=1,\\cdots,M $$\n"
   ]
  },
  {
   "cell_type": "markdown",
   "metadata": {},
   "source": [
    "simplificando nuevamente, y considerando el casi $\\{n_i >0\\}$, es posible dividira ambos lados por $\\mu_i(n_i) (\\neq 0)$ y se se tiene:\n",
    "\n",
    "$$\\left( \\sum_{j=1}^M q_{ij} +  q_{i0}\\right)\\lambda_i\n",
    "= \\sum_{j=1,j\\neq i}^M \\lambda_j q_{ji}+ \n",
    " \\gamma q_{0i}+ \n",
    " \\lambda_i q_{ii}\\qquad i=1,\\cdots,M $$\n",
    " \n",
    " es decir se obtienen las ecuaciones de balance de flujo de las tasas de proceso $(\\lambda_i)_{i=1,\\cdots,M}$:\n",
    "\n",
    "$$\\lambda_i\n",
    "= \\gamma q_{0i}+ \\sum_{j=1}^M \\lambda_j q_{ji}\\qquad i=1,\\cdots,M $$\n",
    "\n",
    "como estas ecuaciones de balance de flujo se cumplen para las tasas de proceso, se obtiene que las expresiones de las probabilidades en el equilibrio del Teorema de Jackson cumplen las ecuaciones de balance de probabilidades de estados, y por tanto existen y se cumple el Teorema."
   ]
  },
  {
   "cell_type": "markdown",
   "metadata": {},
   "source": [
    "**Ejercicio:** Considere un sistema de comercio electrónico caracterizado por  dos nodos, el primero de ellos con 1 servidor y el segundo con dos servidores. Ambos nodos reciben solicitudes de servicio según procesos de Poisson de tasa 24 solicitudes por minuto en el caso del nodo 1 y 36 solicitudes por minuto en el caso del nodo 2.\n",
    "Ambos nodos tienen servidores con tiempos de servicio exponencial. El servidor del primer nodo puede atender una media de 100 solicitudes por minuto, mientras que cada uno de los servidores del segundo nodo lo hace con una media de 60 solicitudes por minuto.\n",
    "Cuando una solicitud está a punto de finalizar su servicio en el nodo 2, en el 25% de los casos  se crea una nueva solicitud hija en el nodo 1, en otro caso termina totalmente su ejecución.\n",
    "Por otra parte, las solicitudes que se encuentran a punto de finalizar su servicio en el nodo 1, en el 20% de los casos  crean una nueva solicitud hija en el nodo 1, en otro caso  envían una nueva solicitud hija al nodo 2.\n",
    "\n",
    "**(a)**\tModele este sistema como una red de colas abiertas: Dibuje la red de colas y el grafo asociado.\n",
    "\n",
    "**(b)**\tCalcule las tasas de proceso de cada nodo\n",
    "\n",
    "**(c)**\tCalcule el número medio de solicitudes en cada nodo y el tiempo medio que tarda una solicitud completa (incluyendo solicitudes hijas) en la red.\n"
   ]
  },
  {
   "cell_type": "markdown",
   "metadata": {},
   "source": [
    "**Resolución:**\n",
    "**(a)** De acuerdo a la descripción, el modelo de red de colas resulta ser:\n",
    "<img src=\"ejercicio2.png\" width=\"500\">\n",
    "con\n",
    "$$\\gamma_1 = 24[s/m],\\qquad \\gamma_2 = 36[s/m],\\qquad \\mu_1 = 100[s/m], \\qquad\\mu_2 = 60[s/m],\\qquad p=\\frac{1}{4} \\qquad\\text{y}\\qquad q=\\frac{1}{5}$$"
   ]
  },
  {
   "cell_type": "markdown",
   "metadata": {},
   "source": [
    "Y el grafo respectivo queda:\n",
    "<img src=\"ejercicio2a.png\" width=\"500\">"
   ]
  },
  {
   "cell_type": "markdown",
   "metadata": {},
   "source": [
    "## Una formulación Alternativa\n",
    "Para el caso de redes con nodos SSFR, es posible realizar la siguiente formulación alternativa.\n",
    "Sea $v_i$ el número promedio de visitas hechas por un trabajo al nodo $i$ durante su proceso en el sistema, entonces se cumple que\n",
    "$$v_i = \\frac{\\lambda_i}{\\gamma}$$\n",
    "Por convención se asigna $v_0=1$, y entonces $v_i$ se denomina tasa de visitas al nodo $i$: En efecto, $v_i = \\frac{v_i}{v_0}$.\n",
    "Las tasas de visita constituyen una manera alternativa de describir la distribución de rutas de la red. En efecto, dadas la probabilidades de rutas, se pueden determinar los $v_i$'s.\n",
    "En las ecuaciones de balance de flujo:\n",
    "$$\\lambda_i\n",
    "= \\gamma q_{0i}+ \\sum_{j=1}^M \\lambda_j q_{ji}\\qquad i=1,\\cdots,M $$\n",
    "dividiendo por $\\gamma$ se obtiene:\n",
    "$$v_i\n",
    "= q_{0i}+ \\sum_{j=1}^M v_j q_{ji}\\qquad i=1,\\cdots,M $$\n",
    "dado que $v_0=1$, podemos escribir:\n",
    "$$v_i\n",
    "= \\sum_{j=0}^M v_j q_{ji}\\qquad i=1,\\cdots,M $$"
   ]
  },
  {
   "cell_type": "markdown",
   "metadata": {},
   "source": [
    "### Demanda de Servicio\n",
    "Sea $D_i$ la demanda de servicio promedio total (en unidades de tiempo) que un trabajo realiza sobre el nodo i, entonces:\n",
    "$$D_i = v_i\\left(\\frac{1}{\\mu_i}\\right) = \\frac{\\rho_i}{\\gamma} \\qquad \\text{con} \\qquad \\rho_i = \\frac{\\lambda_i}{\\mu_i}$$\n",
    "\n",
    "y luego\n",
    "$$ \\rho_i = \\gamma D_i$$\n",
    "\n",
    "A menudo, en el monitoreo de sistemas es mas  fácil determinar  $D_i$ que las tasas de visita a un nodo o las probabilidades de ruteo."
   ]
  },
  {
   "cell_type": "markdown",
   "metadata": {},
   "source": [
    "### Medidas de Desempeño:\n",
    "En este caso no se requiere resolver las ecuaciones de balance de flujo, pues se tiene directamente una expresión para $\\rho_i, i=1,\\cdots,M$:\n",
    "\n",
    "$$U_i = 1 - P(N_i=0) = \\rho_i = \\gamma \\lambda_i\\qquad \\qquad \\qquad \\text{Utilización media del nodo } i$$\n",
    "\n",
    "$$L_i = E(N_i) = \\frac{\\rho_i}{1-\\rho_i}= \\frac{\\gamma\\lambda_i}{1-\\gamma\\lambda_i}\\qquad \\qquad \\qquad \\qquad\\text{Número medio de trabajos en el nodo i}$$\n",
    "\n",
    "$$R_i = \\frac{L_i}{\\lambda_i} = \\frac{1}{\\mu_i(1-\\rho_i)}= \\frac{1}{\\mu_i(1-\\gamma \\lambda_i)}\\qquad\\qquad \\qquad  \\text{Tiempo medio de respuesta del nodo i}$$\n",
    "\n",
    "$$L_{q_i} = E(N_{q_i}) = \\frac{\\rho_i^2}{1-\\rho_i}\\qquad\\qquad \\qquad  \\qquad \\text{Número medio de trabajos en la cola del nodo i}$$\n",
    "\n",
    "$$Q_i = E(q_i) = \\frac{L_{q_i}}{\\lambda_i}=\\frac{\\rho_i}{\\mu_i(1-\\rho_i)}\\qquad \\qquad\\qquad \\text{Tiempo medio en la cola del nodo i}$$\n",
    "\n",
    "Se define además $T_i$ el tiempo total que un cliente ocupa en el nodo $i$,\n",
    "\n",
    "$$T_i = v_i R_i = \\mu_i D_i \\frac{1}{\\mu_i(1-\\gamma \\lambda_i)} = \\frac{D_i}{(1-\\gamma \\lambda_i)}$$\n",
    "\n",
    "Y globalmente:\n",
    "$$L = E(N) = \\sum_{i=1}^M E(N_i) = \\sum_{i=1}^M \\frac{\\rho_i}{1-\\rho_i}\\qquad \\text{Número medio de trabajos en el sistema}$$\n",
    "$$R  = \\frac{L}{\\gamma}\\qquad \\qquad \\qquad \\qquad \\qquad \\qquad \\text{Tiempo medio de respuesta del sistema}$$\n",
    "$$L_q = E(N_q) = \\sum_{i=1}^M E(N_{q_i}) = \\sum_{i=1}^M \\frac{\\rho_i^2}{1-\\rho_i}\\qquad \\text{Número medio de trabajos en las colas del sistema}$$\n",
    "$$Q  = \\frac{L_q}{\\gamma}\\qquad \\qquad \\qquad \\qquad \\text{Tiempo medio que un trabajo ocupa las colas del sistema}$$"
   ]
  },
  {
   "cell_type": "markdown",
   "metadata": {},
   "source": [
    "**Ejercicio:**\n",
    "Considere la siguiente información referida al modelo de un sistema informático donde los tiempos se expresan en milisegundos. \n",
    "$$\\begin{array}{| c | c | c | c |}\n",
    "\\hline\n",
    "\\text{Nodo} & \\text{Dispositivo} & \\text{Tiempo medio} & \\text{Tasa}  \\\\\n",
    "&& \\text{de servicio} & \\text{de visitas} \\\\ \\hline\n",
    "1 & \\text{Procesador} & 0,5 & 25 \\\\\n",
    "2 & \\text{Disco A} & 0,3 & 12 \\\\\n",
    "3 & \\text{Disco B}& 3 & 15 \\\\ \\hline\n",
    "\\end{array} $$\n",
    "\n",
    "El sistema recibe en media 20 peticiones por segundo durante el mediodía, que corresponde al segmento horario de mayor actividad\n",
    "\n",
    "a) Modele el sistema como una red de colas abiertas\n",
    "\n",
    "b) Calcule las medidas de desempeño de cada nodo: $U_i$, $L_i$ y  $R_i$\n",
    "\n",
    "c) Calcule el tiempo medio de respuesta del sistema\n",
    "\n",
    "d) Calcule la mejora en  el tiempo medio de respuesta del sistema si se reemplaza el disco más lento (B) por uno idéntico al rápido.\n"
   ]
  },
  {
   "cell_type": "markdown",
   "metadata": {},
   "source": [
    "**Resolución**\n",
    "\n",
    "**(a)** Modelamos el sistema como una red abierta en que se puede calcular la demanda de cada nodo como:\n",
    "$$D_i = \\frac{v_i}{\\mu_i} = v_i E(S_i) \\qquad \\text{y también} \\qquad \\rho_i = \\gamma D_i\\qquad \\text{con} \\qquad \\gamma= 20[p/s] = 0,02[p/ms]$$\n",
    "\n",
    "Calculando estos valores para cada nodo, tenemos:\n",
    "\n",
    "$$\\begin{array}{| c | c | c | c | c| c|}\n",
    "\\hline\n",
    "\\text{Nodo} & \\text{Dispositivo} & \\text{Tiempo medio} & \\text{Tasa} & \\text{Demanda} & \\rho_i \\\\\n",
    "&& \\text{de servicio }E(S_i) & \\text{de visitas }v_i & D_i &\\\\ \\hline\n",
    "1 & \\text{Procesador} & 0,5 & 25  & 12,5 & 0,25\\\\\n",
    "2 & \\text{Disco A} & 0,3 & 12 & 3,6 & 0,072 \\\\\n",
    "3 & \\text{Disco B}& 3 & 15 & 45 & 0,90\\\\ \\hline\n",
    "\\end{array} $$"
   ]
  },
  {
   "cell_type": "code",
   "execution_count": null,
   "metadata": {},
   "outputs": [],
   "source": []
  }
 ],
 "metadata": {
  "celltoolbar": "Slideshow",
  "kernelspec": {
   "display_name": "R",
   "language": "R",
   "name": "ir"
  },
  "language_info": {
   "codemirror_mode": "r",
   "file_extension": ".r",
   "mimetype": "text/x-r-source",
   "name": "R",
   "pygments_lexer": "r",
   "version": "3.6.1"
  }
 },
 "nbformat": 4,
 "nbformat_minor": 2
}

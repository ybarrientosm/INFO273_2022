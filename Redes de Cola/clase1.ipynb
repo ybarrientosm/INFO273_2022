{
 "cells": [
  {
   "cell_type": "markdown",
   "metadata": {
    "slideshow": {
     "slide_type": "slide"
    }
   },
   "source": [
    "# 2. Redes de Colas\n",
    "## 2.1 Introducción\n",
    "En este capítulo consideraremos recursos múltiples que pueden modelarse como una red de servidores.\n",
    "Una red de colas es un grafo dirigido $G = (V,E)$ consistente de un conjunto de nodos o vértices $V=\\{1,2,\\cdots, M\\}$ y un conjunto de arcos $E\\subset VxV$.\n"
   ]
  },
  {
   "cell_type": "markdown",
   "metadata": {
    "slideshow": {
     "slide_type": "slide"
    }
   },
   "source": [
    "<img src=\"grafo.png\" width=\"400\">"
   ]
  },
  {
   "cell_type": "markdown",
   "metadata": {
    "slideshow": {
     "slide_type": "slide"
    }
   },
   "source": [
    "- Cada **nodo** es un centro de servicio representando algún recurso activo en el sistema físico. Cada centro de servicio tiene una sola cola y uno o varios servidores. Por ejemplo un nodo puede modelar un elemento de procesamiento del computador como una CPU o una GPU, una unidad de E/S, etc o un nodo de una red de comunicaciones. Tales nodos pueden tener una separación física importante , pero asumiremos en este capítulo que el tiempo de transferencia entre nodos es cero.\n",
    "- Los **arcos** definen la topología de la red y representan los posibles caminos que pueden tomar los trabajos o procesos. \n",
    "- La **carga de trabajo del sistema** depende de las características de cada tarea o proceso en la red. Típicamente se caracteriza por el tiempo de servicio en  cada nodo y las probabilidades de transferencia entre nodos. En este capítulo se considera sólo el caso de un sólo tipo de trabajos o procesos en la red de colas.\n"
   ]
  },
  {
   "cell_type": "markdown",
   "metadata": {
    "slideshow": {
     "slide_type": "slide"
    }
   },
   "source": [
    "Las redes de colas pueden clasificarse en tres tipos:\n",
    "- **Abiertas:** al menos un arco viene del exterior (fuente infinita) y al menos un arco sale del sistema\n",
    "- **Cerradas:** no hay arcos hacia el exterior de la red y el número de trabajos en la red permanece constante\n",
    "- **Mixtas:** cuando existen trabajos con respecto a los cuales la red es cerrada y otros trabajos con respecto a los cuales la red es abierta."
   ]
  },
  {
   "cell_type": "markdown",
   "metadata": {
    "slideshow": {
     "slide_type": "slide"
    }
   },
   "source": [
    "### Tipos de centros de servicio\n",
    "Un nodo en la red de colas está definido por la disciplina de la cola y el tiempo de servicio según la clase de trabajo. En una primera aproximación, consideraremos una **distribución exponencial** del tiempo de servicio y nodos **FCFS** (primero en llegar, primero en ser servido).\n",
    "Supongamos que cada nodo tiene una tasa de servicio dependiente del estado $n$, con $n$ el número de trabajos en la cola:\n",
    "$$\\mu_i(0) = 0 \\qquad y \\qquad \\mu_i(n) >0 \\qquad \\forall n>0$$\n",
    "\n",
    "En lo que sigue asumiremos que todos los centros de servicio tienen un sólo servidor de alguno de los tipos siguientes:\n",
    "- **Tasa de servicio fija (SSFR)**: $\\mu_i(n) = \\mu_i$, un sólo servidor de tasa fija\n",
    "- **Servidor infinito (IS)**: $\\mu_i(n) = n\\mu_i$ modela nodos de retardo, en que no hay cola.\n",
    "- **Tasa de servicio dependiente del largo de la cola (QLD)**: $\\mu_i(n)$ depende efectivamente de $n$ el largo de la cola."
   ]
  },
  {
   "cell_type": "markdown",
   "metadata": {
    "slideshow": {
     "slide_type": "slide"
    }
   },
   "source": [
    "## 2.2 Redes de Colas Abiertas\n",
    "Se consideran diversas topologías en las redes de colas abiertas:\n",
    "- Red secuencial: aqui los trabajos llegan al sistema al nodo 1 y salen del sistema sólo después de su servicio en el nodo M:\n",
    "<img src=\"redSecuencial.png\" width=\"600\">"
   ]
  },
  {
   "cell_type": "markdown",
   "metadata": {
    "slideshow": {
     "slide_type": "slide"
    }
   },
   "source": [
    "- Red en árbol: los trabajos llegan sólo al nodo 1 y salen del sistema desde cualquiera de las hojas:\n",
    "<img src=\"redArbol.png\" width=\"400\">\n",
    "\n",
    "Estas dos topologías no tienen retroalimentación. En las aplicaciones prácticas generalmente existe mucha retroalimentación y esta es esencial en el rendimiento del sistema."
   ]
  },
  {
   "cell_type": "markdown",
   "metadata": {
    "slideshow": {
     "slide_type": "slide"
    }
   },
   "source": [
    "## Redes de Jackson\n",
    "Una red de Jackson con nodos $1,2,\\cdots,M$ se define como sigue:\n",
    "- el tiempo de servicio del nodo $i$ tiene una distribución exponencial de tasa $\\mu_i(n)$, con $n$ el número de trabajos en el nodo.\n",
    "- un trabajo que termina su servicio en un nodo, escoge con alguna probabilidad dejar el sistema o ingresar a otro nodo, independientemente de su historia\n",
    "- la red es abierta y las llegadas externas al nodo $i$ siguen un proceso de Poisson.\n",
    "\n",
    "El espacio de estados en una red de Jackson está dado por:\n",
    "\n",
    "$$ S = \\{ \\vec{n} = (n_1,\\cdots,n_M) \\in \\mathbb{N}^M \\mid n_i \\geq 0\\}$$"
   ]
  },
  {
   "cell_type": "markdown",
   "metadata": {
    "slideshow": {
     "slide_type": "slide"
    }
   },
   "source": [
    "Sea $N_i$ la v.a. número de trabajos en el nodo $i$, entonces notaremos:\n",
    "\n",
    "$$\\Pi(\\vec{n}) = \\Pi(n_1,\\cdots,n_m) = P(N_1=n_1,\\cdots,N_M=n_m)$$\n",
    "\n",
    "la distribución en el equilibrio (si existe) de que la red esté en el estado $\\vec{n}$. \n",
    "La secuencia de nodos que visita un trabajo está definida por la matriz de probabilidades de transición:\n",
    "\n",
    "$$Q = \\left(q_{ij}\\right)_{i,j=1,\\cdots,M}$$\n",
    "con $q_{ij}$ la probabilidad de que el trabajo pase del nodo i al nodo j (independientemente de su historia). \n",
    "Si $q_{ij}$ dependiera del estado de la red $\\vec{n}$, diríamos que el routing es adaptativo. En este capítulo asumimos que $q_{ij}$ es constante.\n",
    "\n",
    "Se define la probabilidad de salir del sistema desde el nodo $i$ como:\n",
    "\n",
    "$$q_{i0} = 1 - \\sum_{j=1}^M q_{ij}$$\n",
    "\n",
    "Como la red es abierta, $\\exists i$ tal que $q_{i0}>0$\n",
    "\n",
    "Por otra parte, las llegadas se asumen Poisson de tasa $\\gamma$, la que se distribuye entre los nodos con probabilidades $q_{0i}>0$ entre los nodos, con $\\sum q_{0i} =1$. De manera que el proceso de llegadas de trabajos desde fuera del sistema a cada nodo $i$ es Poisson de tasa \n",
    "\n",
    "$$\\gamma_i = \\gamma q_{0i}, \\qquad \\sum_{i=1}^M \\gamma_i = \\gamma$$"
   ]
  },
  {
   "cell_type": "markdown",
   "metadata": {
    "slideshow": {
     "slide_type": "slide"
    }
   },
   "source": [
    "### Ecuaciones de balance de flujo\n",
    "Sea $\\lambda_i$ la tasa media de proceso del nodo $i$, es decir, el número medio de salidas del nodo $i$ por unidad de tiempo. Entonces, en el equilibrio se cumple que tasa de salidas es igual a tasa de llegadas, en cada nodo:\n",
    "$$\\lambda_i = \\gamma_i + \\sum_{j=1}^M \\lambda_j q_{ji}, \\qquad i=1,\\cdots,M$$\n",
    "\n",
    "y globalmente\n",
    "\n",
    "$$\\gamma = \\sum_{i=1}^M \\lambda_i q_{i0}$$\n",
    "\n",
    "Si notamos $\\vec{\\lambda} = (\\lambda_1,\\cdots,\\lambda_M)$ y $\\vec{\\gamma} = (\\gamma_1,\\cdots,\\gamma_M)$, se tiene el sistema de ecuaciones:\n",
    "\n",
    "$$\\vec{\\lambda}(I-Q) = \\vec{\\gamma}$$\n",
    "\n",
    "Este sistema tiene solución única porque $I-Q$ es no singular y por lo tanto la solución de $\\vec{\\lambda}$ es única."
   ]
  },
  {
   "cell_type": "markdown",
   "metadata": {
    "slideshow": {
     "slide_type": "slide"
    }
   },
   "source": [
    "**Ejercicio:** Determinar la tasa de proceso de este canal de transmisión de datos:\n",
    "<img src=\"canal.png\" width=\"500\">\n"
   ]
  },
  {
   "cell_type": "markdown",
   "metadata": {
    "slideshow": {
     "slide_type": "skip"
    }
   },
   "source": [
    "**Resolución:** \n",
    "\n",
    "$$\\lambda_1 = \\gamma + \\lambda_1 q$$\n",
    "\n",
    "despejando $\\lambda_1$ queda:\n",
    "\n",
    "$$\\lambda_1 = \\frac{\\gamma}{1-q}$$\n",
    "\n",
    "**Nota**: Aunqye el proceso de llegadas externas sea Poisson, eso no significa que las llegadas a cada nodo sean Poisson. En efecto, la retroalimentación genera un proceso de llegadas al nodo 1 que es la suma de procesos Poisson *depedientes*, por lo que esta suma no es necesariamente Poisson. "
   ]
  },
  {
   "cell_type": "markdown",
   "metadata": {
    "slideshow": {
     "slide_type": "slide"
    }
   },
   "source": [
    "## Teorema de Jackson\n",
    "Para una red de Jackson en estado de equilibrio con tasa de proceso $\\lambda_i$ en el nodo $i$ se tiene:\n",
    "- El número de clientes en cada nodo es independientne del número de clientes en los otros nodos.\n",
    "- El nodo $i$ se comporta estocásticamente como una cola con distribución de llegadas Poisson de tasa $\\lambda_i$\n",
    "Mas precisamente, en el equilibrio se cumple:\n",
    "\n",
    "$$\\Pi(n_1,\\cdots,n_m) = \\prod_{i=1}^M \\pi_i(n_i), \\qquad \\qquad \\pi_i(n_i) =  \\pi_i(0) \\frac{\\lambda_i^{n_i}}{\\prod_{j=1}^{n_i} \\mu_i(j)}$$\n",
    "\n",
    "### Corolario: \n",
    "Si cada nodo $i$ es del tipo SSFR con tasa de servicio $\\mu_i$, entonces se comporta como una cola M/M/1 independiente, con lo cual\n",
    "$$\\Pi(n_1,\\cdots,n_m) = \\prod_{i=1}^M (1-\\rho_i)\\rho_i^{n_i},\\qquad\\qquad \\rho_i = \\frac{\\lambda_i}{\\mu_i}$$"
   ]
  },
  {
   "cell_type": "markdown",
   "metadata": {},
   "source": [
    "### Medidas de Desempeño:\n",
    "Para el caso SSFR se tiene para cada nodo $i$:\n",
    "$$U_i = P(N_i \\geq 1) = 1 - P(N_i=0) = \\rho_i = \\frac{\\lambda_i}{\\mu_i}, \\qquad \\text{Utilización media del nodo } i$$\n",
    "$$L_i = E(N_i) = \\frac{\\rho_i}{1-\\rho_i}\\qquad \\qquad \\qquad\\text{Número medio de trabajos en el nodo i}$$\n",
    "$$R_i = \\frac{L_i}{\\lambda_i} = \\frac{1}{\\mu_i(1-\\rho_i)}\\qquad\\qquad \\qquad \\qquad \\qquad \\text{Tiempo medio de respuesta del nodo i}$$\n",
    "$$L_{q_i} = E(N_{q_i}) = \\frac{\\rho_i^2}{1-\\rho_i}\\qquad \\qquad \\text{Número medio de trabajos en la cola del nodo i}$$\n",
    "$$Q_i = E(q_i) = \\frac{L_{q_i}}{\\lambda_i}=\\frac{\\rho_i}{\\mu_i(1-\\rho_i)}\\qquad \\qquad\\qquad \\text{Tiempo medio en la cola del nodo i}$$\n",
    "\n",
    "Y globalmente:\n",
    "$$L = E(N) = \\sum_{i=1}^M E(N_i) = \\sum_{i=1}^M \\frac{\\rho_i}{1-\\rho_i}\\qquad \\text{Número medio de trabajos en el sistema}$$\n",
    "$$R  = \\frac{L}{\\gamma}\\qquad \\qquad \\qquad \\qquad \\qquad \\qquad \\text{Tiempo medio de respuesta del sistema}$$\n",
    "$$L_q = E(N_q) = \\sum_{i=1}^M E(N_{q_i}) = \\sum_{i=1}^M \\frac{\\rho_i^2}{1-\\rho_i}\\qquad \\text{Número medio de trabajos en las colas del sistema}$$\n",
    "$$Q  = \\frac{L_q}{\\gamma}\\qquad \\qquad \\qquad \\qquad \\text{Tiempo medio que un trabajo ocupa las colas del sistema}$$"
   ]
  },
  {
   "cell_type": "markdown",
   "metadata": {
    "slideshow": {
     "slide_type": "slide"
    }
   },
   "source": [
    "**Ejercicio:**\n",
    "Considere un sistema de dos servidores donde los trabajos llegan desde fuera del sistema\n",
    "según procesos de Poisson independientes de tasa $\\gamma_1$ y $\\gamma_2$ respectivamente.\n",
    "La tasa de servicio de cada nodo es $\\mu_1$ y $\\mu_2$ respectivamente. Los trabajos ocupan el sistema \n",
    "según las rutas siguientes:\n",
    "- un trabajo saliendo del nodo 1 tiene igual probabilidad de entrar al nodo 2 o salir del sistema.\n",
    "- un trabajo saliendo del nodo 2 se dirige con probabilidad $p$ al nodo 1 y de lo contrario sale del sistema.\n",
    "\n",
    "**(a)** Deduzca una expresión para las tasas de proceso $\\lambda_1$ y $\\lambda_2$ de ambos nodos  cuando el sistema está en equilibrio.\n",
    "\n",
    "**(b)** Suponga que \n",
    "$$p=0.25,\\qquad \\gamma_1= 4,\\,\\,\\gamma_2=5\\,\\,\\,\\mu_1=8\\,\\,\\mbox{y}\\,\\, \\mu_2=10$$\n",
    "donde las tasas están medidas en número de trabajos por segundo.\n",
    "\n",
    "Calcule la probabilidad en el equilibrio de que el sistema esté vacío y el tiempo medio de \n",
    "respuesta del sistema.\n"
   ]
  },
  {
   "cell_type": "markdown",
   "metadata": {
    "slideshow": {
     "slide_type": "skip"
    }
   },
   "source": [
    "**Resolución:** \n",
    "De acuerdo a la descripción, el modelo de red de colas resulta ser:\n",
    "<img src=\"ejercicio.png\" width=\"500\">\n"
   ]
  },
  {
   "cell_type": "markdown",
   "metadata": {},
   "source": [
    "**(a)** de las ecuaciones de balance de flujo se obtiene:\n",
    "$$\\lambda_1 = \\gamma_1 + p\\lambda_2$$\n",
    "$$\\lambda_2 = \\gamma_2 + \\frac{1}{2} \\lambda_1$$"
   ]
  },
  {
   "cell_type": "markdown",
   "metadata": {},
   "source": [
    "reemplazando la primera ecuación en la segunda, se obtiene:\n",
    "\n",
    "$$\\lambda_2 = \\gamma_2 + \\frac{1}{2} \\gamma_1 + \\frac{p}{2}\\lambda_2$$\n",
    "\n",
    "despejando $\\lambda_2$:\n",
    "\n",
    "$$\\lambda_2 (1-\\frac{p}{2}) = \\gamma_2 + \\frac{1}{2} \\gamma_1  \\implies \\lambda_2 = \\frac{\\gamma_2 + \\frac{1}{2} \\gamma_1}{1-\\frac{p}{2}}$$\n",
    "\n",
    "y de donde:\n",
    "$$\\lambda_1 = \\frac{\\gamma_1 + p \\gamma_2}{1-\\frac{p}{2}}$$\n"
   ]
  },
  {
   "cell_type": "markdown",
   "metadata": {},
   "source": [
    "**(b)** Con los valores dados, resulta que:\n",
    "$$ \\lambda_2 = \\frac{5 + \\frac{1}{2} 4}{1-\\frac{1}{8}}= \\frac{8}{7} ( 5+2)= 8$$\n",
    "\n",
    "$$\\lambda_1 = \\frac{4+ \\frac{1}{4}5}{1-\\frac{1}{8}} = \\frac{8}{7} \\frac{(16+5)}{4}= 6$$\n",
    "\n",
    "Y entonces:\n",
    "$$\\rho_1 = \\frac{\\lambda_1}{\\mu_1} = \\frac{6}{8}=\\frac{3}{4} \\qquad \\qquad \\rho_2 = \\frac{\\lambda_2}{\\mu_2} = \\frac{8}{10} =\\frac{4}{5}$$\n",
    "\n",
    "La probabilidad de que el sistema esté vacío es:\n",
    "$$\\Pi(0,0) = (1-\\rho_1)(1-\\rho_2) = (1- \\frac{3}{4})(1-\\frac{4}{5}) = \\frac{1}{4}\\frac{1}{5} =\\frac{1}{20}$$\n",
    "\n",
    "\n",
    "Para el cálculo del tiempo medio de respuesta, es necesario calcular el número medio de trabajos en cada nodo:\n",
    "$$L_1 = \\frac{\\rho_1}{1-\\rho_1}= \\frac{\\frac{3}{4}}{1-\\frac{3}{4}} = \\frac{3}{4} \\frac{4}{1}=3$$\n",
    "$$L_2 = \\frac{\\rho_2}{1-\\rho_2}= \\frac{\\frac{4}{5}}{1-\\frac{4}{5}} = \\frac{4}{5} \\frac{5}{1}=4$$\n",
    "\n",
    "Así\n",
    "$$ R = \\frac{L_1 + L_2}{\\gamma_1 + \\gamma_2} = \\frac{3 + 4}{4+5}= \\frac{7}{9}[s]$$"
   ]
  },
  {
   "cell_type": "code",
   "execution_count": null,
   "metadata": {},
   "outputs": [],
   "source": []
  }
 ],
 "metadata": {
  "celltoolbar": "Slideshow",
  "kernelspec": {
   "display_name": "R",
   "language": "R",
   "name": "ir"
  },
  "language_info": {
   "codemirror_mode": "r",
   "file_extension": ".r",
   "mimetype": "text/x-r-source",
   "name": "R",
   "pygments_lexer": "r",
   "version": "4.0.5"
  }
 },
 "nbformat": 4,
 "nbformat_minor": 2
}

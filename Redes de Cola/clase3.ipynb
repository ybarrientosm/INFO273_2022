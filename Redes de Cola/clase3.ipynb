{
 "cells": [
  {
   "cell_type": "markdown",
   "metadata": {
    "slideshow": {
     "slide_type": "slide"
    }
   },
   "source": [
    "## 3.3 Redes cerradas de colas\n",
    "En este tipo de redes no hay llegadas ni salidas fuera del sistema. El número de trabajos es fijo $K$. Este tipo de redes se utiliza en redes de computación y comunicaciones para modelar los casos en que la población està limitada por la capacidad de los recursos.\n",
    "\n",
    "### Redes de Gordon-Newell\n",
    "Una red de Gordon-Newell con nodos $1,2,\\cdots,M$ se define como sigue:\n",
    "- el tiempo de servicio del nodo $i$ tiene una distribución exponencial de tasa $\\mu_i(n)$, con $n$ el número de trabajos en el nodo.\n",
    "- un trabajo que termina su servicio en un nodo, escoge probabilísticamente ingresar a otro nodo, independientemente de su historia.\n",
    "- la red es cerrada con una población fija $K$.  \n",
    "\n",
    "El espacio de estados en una red de Gordon-Newell está dado por:\n",
    "\n",
    "$$ S = \\{ \\vec{n} = (n_1,\\cdots,n_M) \\in \\mathbb{N}^M \\mid n_i \\geq 0 \\text{ y } \\sum_{i=1}^M n_i = K\\}$$\n",
    "\n",
    "entonces se cumple:\n",
    "$$ |S| = \\left (\\begin{array}{c} \n",
    "K+M-1\\\\K\\\\ \\end{array} \\right)$$"
   ]
  },
  {
   "cell_type": "markdown",
   "metadata": {},
   "source": [
    "En efecto, si representamos los $K$ trabajos con $\\bigcirc$ y la separación entre nodos por M-1 divisiones $\\mid$:\n",
    "$$\\bigcirc \\bigcirc \\cdots \\bigcirc \\mid \\bigcirc \\bigcirc \\cdots \\bigcirc  \\mid \\cdots \\mid \\bigcirc \\bigcirc \\cdots \\bigcirc $$\n",
    "\n",
    "Entonces el número de configuraciones distintas corresponde a las distintas combinaciones de $K$ bolitas y $M-1$ divisiones, considerando que tanto las bolitas como las divisiones son indistinguibes entre si, se tiene:\n",
    "$$ \\mid S \\mid = \\frac{(K+M-1)!}{K! (M-1)!}$$\n"
   ]
  },
  {
   "cell_type": "markdown",
   "metadata": {},
   "source": [
    "En este caso, aplica la propiedad de Cadenas de Markov que indica que en cuando el número de estados de la cadena es  finito, y si es irreductible y aperiódica (recurrente positiva) se alcanza el equilibrio.\n",
    "\n",
    "Como no hay salidas ni entradas, se cumple:\n",
    "$$\\sum_{j=1}^M q_{ij}=1 \\qquad i=1,\\cdots,M $$\n",
    "\n",
    "Y las ecuaciones de balance de flujo son:\n",
    "\n",
    "$$\\lambda_i = \\sum_{j=1}^M \\lambda_j q_{ji}\\qquad i=1,\\cdots,M $$\n",
    "\n",
    "Por lo tanto como sistema de ecuaciones queda:\n",
    "\n",
    "\\begin{equation}\\label{sistema}\\tag{1}\n",
    "\\vec{\\lambda} (I - Q) =0\n",
    "\\end{equation}\n",
    "\n",
    "y como $\\sum_{j=1}^M q_{ij}=1 $ entonces las filas de $I-Q$ suman $0$ y luego el $det(I-Q) =0$. Por lo tanto el sistema tiene infinitas soluciones.\n",
    "\n",
    "Mas precisamente, si $\\{e_i\\}_{i=1,\\cdots,M}$ es una solución del sistema \\eqref{sistema} entonces\n",
    "\n",
    "$$e_i = c\\lambda_i, \\qquad i=1,\\cdots,M \\qquad c\\text{ alguna constante real}$$\n",
    "\n",
    "A menudo se escoge la solución tal que para algún nodo $e_1=1$, así por cada visita al nodo $1$, cada trabajo requiere en promedio $e_i$ visitas al nodo $i$. Otra alternativa es escoger $\\{e_i\\}$ tal que $\\sum e_i =1$.\n",
    "\n",
    "En lo que sigue, cualquier conjunto de $\\{e_i\\}$ que cumplan el sistema \\eqref{sistema} es apropiado, pues la constante se simplifica en la expresión final."
   ]
  },
  {
   "cell_type": "markdown",
   "metadata": {
    "slideshow": {
     "slide_type": "slide"
    }
   },
   "source": [
    "## Teorema de Gordon-Newell\n",
    "Para una red de Gordon-Newell en estado de equilibrio con tasa de servicio dependiente de la carga $\\mu_i(j)$ en el nodo $i$ y $\\{e_i\\}$ conjunto de soluciones de las ecuaciones de balance de flujo, se cumple:\n",
    "\n",
    "$$\\Pi(\\vec{n}) = \\Pi(n_1,\\cdots,n_M) = \\frac{1}{G} \\prod_{i=1}^M x_i(n_i), \\qquad \\text{con}\\qquad x_i(n_i) =  \\frac{e_i^{n_i}}{\\prod_{j=1}^{n_i} \\mu_i(j)}, \\qquad\\qquad \\sum_{i=1}^K n_i= 1$$\n",
    "\n",
    "y G es una constante de normalización definida por:\n",
    "\n",
    "$$G = \\sum_{\\vec{n} \\in S} \\prod_{i=1}^M x_i(n_i)$$\n",
    "\n",
    "### Demostración: \n",
    "Queda propuesta. Se deduce de las ecuaciones de balance de probabilidades."
   ]
  },
  {
   "cell_type": "markdown",
   "metadata": {},
   "source": [
    "### Cálculo de la constante de normalización\n",
    "Para esto consideraremos en primer lugar el caso de nodos con tasa de servicio constante.\n",
    "En tal caso:\n",
    "$$\\Pi(\\vec{n}) = \\Pi(n_1,\\cdots,n_M) = \\frac{1}{G} \\prod_{i=1}^M x_i^{n_i}\\qquad \\qquad \\text{con} \\qquad x_i= \\left(\\frac{e_i}{\\mu_i}\\right)$$ \n",
    "\n",
    "y\n",
    "\n",
    "$$G = \\sum_{\\vec{n} \\in S} \\prod_{i=1}^M x_i^{n_i}$$\n",
    "\n",
    "\n",
    "Sea $m$ el número de nodos y $k$ el número de trabajos posibles (población), escribiremos la constante de normalización en función de $m$ y $k$:\n",
    "\n",
    "$$G(k,m) = \\sum_{\\vec{n} \\in S(k,m)} \\prod_{i=1}^m x_i^{n_i}$$\n",
    "\n",
    "donde\n",
    "$$S(k,m) = \\{ \\vec{n} = (n_1,\\cdots,n_m) \\in \\mathbb{N}^m \\mid n_i \\geq 0 \\text{ y } \\sum_{i=1}^m n_i = k\\}$$\n",
    "\n",
    "entonces se cumple:\n",
    "$$ |S(k,m)| = \\left (\\begin{array}{c} \n",
    "k+m-1\\\\m-1\\\\ \\end{array} \\right)$$\n",
    "\n",
    "Divideremos la suma de la expresión de G en dos casos: $n_m=0$ y $n_m>0$, entonces:\n",
    "\n",
    "\n",
    "\\begin{eqnarray}\n",
    "G(k,m) & = & \\sum_{\\vec{n} \\in S(k,m)\\\\ n_m=0} \\prod_{i=1}^m x_i^{n_i}\\qquad + \\qquad \\sum_{\\vec{n} \\in S(k,m)\\\\n_m >0} \\prod_{i=1}^M x_i^{n_i}\\\\\n",
    "&&\\\\\n",
    "&=& \\sum_{\\vec{n} \\in S(k,m)\\\\ n_m=0} \\prod_{i=1}^{m-1} x_i^{n_i}\\qquad + \\qquad x_m \\sum_{\\vec{n} \\in S(k,m)\\\\l_i = n_i, i\\neq m\\\\l_m =n_m-1} \\prod_{i=1}^M x_i^{l_i}\\\\\n",
    "&&\\\\\n",
    "&=& \\sum_{\\vec{n} \\in S(k,m-1)} \\prod_{i=1}^{m-1} x_i^{n_i}\\qquad + \\qquad x_m \\sum_{\\vec{n} \\in S(k-1,m)} \\prod_{i=1}^M x_i^{n_i}\\\\\n",
    "\\end{eqnarray}"
   ]
  },
  {
   "cell_type": "markdown",
   "metadata": {},
   "source": [
    "Con lo que se obtiene la ecuación de recurrencia:\n",
    "$$G(k,m) = G(k,m-1) + x_m G(k-1,m)$$\n",
    "\n",
    "con las condiciones de borde:\n",
    "$$G(0,m) = 1 \\qquad m\\geq 0$$\n",
    "$$G(k,0) = 0 \\qquad k \\geq 0$$\n",
    "\n",
    "El método par resolver esta recurrencia se denomina algoritmo de convolución.\n",
    "Un vez calculada G, las medidas de desempeño se calculan con las fórmulas habituales.\n"
   ]
  },
  {
   "cell_type": "markdown",
   "metadata": {},
   "source": [
    "**Ejercicio:** Considere una base de datos distribuida compuesta por tres servidores los cuales prestan servicio\n",
    "a diez clientes que se mueven entre ellos. Suponga que cada cliente que realiza una consulta en un\n",
    "servidor se dirije al otro servidor con probabilidad $q_{ij} = 0.3$ y con probabilidad $q_{ii} = 0.4$ se queda en\n",
    "el mismo servidor. Los servidores poseen tasa de servicio exponencial $\\mu_1 = 100$[consultas/seg],$\\mu_2 =\n",
    "80$[consultas/seg] y $\\mu_3 = 40$[consultas/seg] respectivamente.\n",
    "\n",
    "**(a)** Modele este problema como una red de colas cerrada. Dibuje el grafo asociado y calcule $e_1,e_2, e_3$.\n",
    "\n",
    "**(b)** Calcule la constante $G$ con el algoritmo de convolución.\n",
    "\n",
    "**(c)** Calcule el número promedio de consultas, los porcentajes de utilización y los tiempos de respuesta de cada servidor.\n",
    " "
   ]
  },
  {
   "cell_type": "markdown",
   "metadata": {},
   "source": [
    "**Resolución:** \n",
    "\n",
    "**(a)** El grafo asociado es:\n",
    "<img src=\"modelo4.png\" width=\"500\">\n",
    "y las ecuaciones de balance de flujo quedan:\n",
    "$$\\begin{eqnarray}\n",
    "\\lambda_1 & = & q \\lambda_1 + p \\lambda_2 + p \\lambda_3\\\\\n",
    "&&\\\\\n",
    "\\lambda_2 & = & p \\lambda_1 + q \\lambda_2 + p \\lambda_3\\\\\n",
    "&&\\\\\n",
    "\\lambda_3 & = & p \\lambda_1 + p \\lambda_2 + q \\lambda_3\\\\\n",
    "\\end{eqnarray}\n",
    "$$\n",
    "\n",
    "\n",
    "Una solución posible de este sistema es $e_1=e_2 = e_3 = 1$."
   ]
  },
  {
   "cell_type": "code",
   "execution_count": 1,
   "metadata": {},
   "outputs": [
    {
     "name": "stdout",
     "output_type": "stream",
     "text": [
      " [1] 1.000000e+00 4.750000e-02 1.568750e-03 4.498438e-05 1.206680e-06\n",
      " [6] 3.129287e-08 7.973953e-10 2.013330e-11 5.059127e-13 1.268107e-14\n",
      "[11] 3.174524e-16\n"
     ]
    }
   ],
   "source": [
    "#(b) calculo de constante G, dadas las tasas de servicio y de proceso de cada nodo\n",
    "\n",
    "e<- rep(1,3)\n",
    "u <- c(100,80,40)\n",
    "x <- e/u\n",
    "N=10\n",
    "\n",
    "G <- rep(0,N+1)\n",
    "G[1]<- 1\n",
    "\n",
    "for (m  in 1:3){\n",
    "    for (n in 2:(N+1)){\n",
    "       G[n] <- G[n] + x[m]*G[n-1]\n",
    "    }\n",
    "}\n",
    "print(G)\n"
   ]
  },
  {
   "cell_type": "code",
   "execution_count": 2,
   "metadata": {},
   "outputs": [
    {
     "name": "stdout",
     "output_type": "stream",
     "text": [
      "[1] 1\n",
      "                    proba\n",
      "mat 10  0  0 3.150078e-05\n",
      "     0  0 10 3.004149e-01\n",
      "     0  1  9 1.502074e-01\n",
      "     0  2  8 7.510372e-02\n",
      "     0  3  7 3.755186e-02\n",
      "     0  4  6 1.877593e-02\n",
      "     0  5  5 9.387964e-03\n",
      "     0  6  4 4.693982e-03\n",
      "     0  7  3 2.346991e-03\n",
      "     0  8  2 1.173496e-03\n",
      "     0  9  1 5.867478e-04\n",
      "     0 10  0 2.933739e-04\n",
      "     1  0  9 1.201659e-01\n",
      "     1  1  8 6.008297e-02\n",
      "     1  2  7 3.004149e-02\n",
      "     1  3  6 1.502074e-02\n",
      "     1  4  5 7.510372e-03\n",
      "     1  5  4 3.755186e-03\n",
      "     1  6  3 1.877593e-03\n",
      "     1  7  2 9.387964e-04\n",
      "     1  8  1 4.693982e-04\n",
      "     1  9  0 2.346991e-04\n",
      "     2  0  8 4.806638e-02\n",
      "     2  1  7 2.403319e-02\n",
      "     2  2  6 1.201659e-02\n",
      "     2  3  5 6.008297e-03\n",
      "     2  4  4 3.004149e-03\n",
      "     2  5  3 1.502074e-03\n",
      "     2  6  2 7.510372e-04\n",
      "     2  7  1 3.755186e-04\n",
      "     2  8  0 1.877593e-04\n",
      "     3  0  7 1.922655e-02\n",
      "     3  1  6 9.613276e-03\n",
      "     3  2  5 4.806638e-03\n",
      "     3  3  4 2.403319e-03\n",
      "     3  4  3 1.201659e-03\n",
      "     3  5  2 6.008297e-04\n",
      "     3  6  1 3.004149e-04\n",
      "     3  7  0 1.502074e-04\n",
      "     4  0  6 7.690620e-03\n",
      "     4  1  5 3.845310e-03\n",
      "     4  2  4 1.922655e-03\n",
      "     4  3  3 9.613276e-04\n",
      "     4  4  2 4.806638e-04\n",
      "     4  5  1 2.403319e-04\n",
      "     4  6  0 1.201659e-04\n",
      "     5  0  5 3.076248e-03\n",
      "     5  1  4 1.538124e-03\n",
      "     5  2  3 7.690620e-04\n",
      "     5  3  2 3.845310e-04\n",
      "     5  4  1 1.922655e-04\n",
      "     5  5  0 9.613276e-05\n",
      "     6  0  4 1.230499e-03\n",
      "     6  1  3 6.152496e-04\n",
      "     6  2  2 3.076248e-04\n",
      "     6  3  1 1.538124e-04\n",
      "     6  4  0 7.690620e-05\n",
      "     7  0  3 4.921997e-04\n",
      "     7  1  2 2.460999e-04\n",
      "     7  2  1 1.230499e-04\n",
      "     7  3  0 6.152496e-05\n",
      "     8  0  2 1.968799e-04\n",
      "     8  1  1 9.843994e-05\n",
      "     8  2  0 4.921997e-05\n",
      "     9  0  1 7.875195e-05\n",
      "     9  1  0 3.937598e-05\n",
      "        [,1]      [,2]      [,3]\n",
      "L 0.66280613 0.9892279 8.3476510\n",
      "U 0.39943215 0.4993296 0.9986591\n",
      "R 0.01659371 0.0247639 0.2089715\n"
     ]
    }
   ],
   "source": [
    "\n",
    "# (c) Cálculo medidas de desempeño\n",
    "mat <- c(N,0,0)\n",
    "proba <- (x[1]^N)/G[N+1] \n",
    "L <- rep(0,3)\n",
    "U <- rep(0,3)\n",
    "for (i in 0:(N-1)){\n",
    "    limj= max(0, N-i)\n",
    "    for (j in 0:limj){\n",
    "        k = N-i-j\n",
    "        if (k>=0){\n",
    "            mat <- rbind(mat,c(i,j,k))\n",
    "            p<- (x[1]^i *x[2]^j * x[3]^k)/G[N+1]\n",
    "            proba <- c(proba, p)\n",
    "            L <- L + p*c(i,j,k)\n",
    "           \n",
    "            if (i>0)\n",
    "                U[1] <- U[1] + p\n",
    "            if (j>0)\n",
    "                U[2]<- U[2] + p\n",
    "            if (k>0)\n",
    "                U[3] <- U[3] + p\n",
    "            \n",
    "        }\n",
    "    }\n",
    "}\n",
    "print(sum(proba))\n",
    "print(cbind(mat, proba))\n",
    "R = L/(u*U)\n",
    "print(rbind(L,U,R))\n",
    "\n",
    "        "
   ]
  },
  {
   "cell_type": "markdown",
   "metadata": {},
   "source": [
    "## Análisis del Valor Medio\n",
    "Este enfoque permite derivar las medidas de desempeño para una red de colas cerrada sin hacer hipótesis sobre las distribuciones de probabilidad en la red, considerando sólo valores medios.\n",
    "La primera etapa del enfoque consiste en transformar la red cerrada en una red abierta equivalente, que contendrá un nodo $0$. Cada vez que un trabajo llega al nodo $0$ entonces sale del sistema e inmediatamente ingresa un nuevo trabajo desde fuera del sistema al nodo $0$, de donde continúa al nodo $b$. En esta red abierta equivalente, los parámetros $T$ tasa de proceso, $v_i$ tasa de visitas y $R$ tiempo de respuesta del sistema adquieren sentido. \n",
    "Claro está que estos parámetros dependen del arco $\\alpha$ escogido para hacer la transformación: \n",
    "\n",
    "<img src=\"modelo3.png\" width=\"500\">\n",
    "\n",
    "$T$ será la tasa promedio a la cual los clientes pasan por el arco $\\alpha$ en el equilibrio, es decir $T$ corresponde con la tasa de llegadas $\\gamma$ en la red abierta equivalente.\n",
    "\n",
    "Consideremos nodos SSFR, entonces podemos definir para cada nodo $i, (i=1,\\cdots,M)$ el número promedio de visitas $v_i$ que un trabajo realiza al nodo $i$ y la tasa media de proceso $\\lambda_i$. Como antes, se cumple:\n",
    "\n",
    "$$\\lambda_i = T v_i$$\n",
    "\n",
    "Lo que que implica que $\\{v_i\\}$ cumple las ecuaciones de balance de flujo. Notar además que por construcción:\n",
    "$$v_0 = v_a q_{ab}$$\n",
    "\n",
    "Además por el nodo $0$ cada tabajo pasa sólo una vez, por lo tanto:\n",
    "$$v_0 = 1 \\implies v_a q_{ab}=1 \\implies v_a = \\frac{1}{q_{ab}}$$\n",
    "\n",
    "de manera que los $\\{v_i\\}$  quedan únicamente determinados por las ecuaciones de balance de flujo. De este modo y aplicando la ley de Little en cada nodo se tiene:\n",
    "\n",
    "$$L_i = \\lambda_i R_i = T v_i R_i$$\n",
    "\n",
    "con lo cual\n",
    "\n",
    "$$K=\\sum_{i=1}^M L_i = T \\sum_{i=1}^M v_i R_i \\implies T = \\frac{K}{\\sum_{i=1}^M v_i R_i }$$\n",
    "\n",
    "donde $T$ y $R_i$ son desconocidos."
   ]
  },
  {
   "cell_type": "markdown",
   "metadata": {},
   "source": [
    "Definamos $Y_i$ el número medio de trabajos en el nodo $i$ cuando llega un nuevo trabajo a dicho nodo, entonces el tiempo medio de respuesta del nodo $i$ cumple:\n",
    "$$R_i = \\frac{1}{\\mu_i}(Y_i +1 )$$\n",
    "\n",
    "### Teorema de Llegadas\n",
    "Para una red cerrada de colas, sea $\\pi(K,\\vec{n})$ la probabilidad en el equilibrio que la red esté en el estado $\\vec{n}$ con número de trabajos $K=\\sum_{i=1}^M n_i$. Entonces la probabilidad de que la red esté en el estado $\\vec{n}$ inmediatamente antes de una llegada al nodo $i$ es:\n",
    "\n",
    "$$A_i(\\vec{n}) = \\pi(K-1,\\vec{n})$$\n",
    "\n",
    "Intuitivamente se interpreta como que el trabajo que llega al nodo $i$ ve la red con un cliente menos (si mismo). De este modo se tiene:\n",
    "\n",
    "$$ Y_i(K) = L_i(K-1)$$\n",
    "\n",
    "con lo cual se establecen las siguientes relaciones de recurrencia:\n",
    "\n",
    "$$\\begin{eqnarray}\n",
    "R_i(K)& = & \\frac{1}{\\mu_i}( L_i(K-1)+1)\\\\\n",
    "&&\\\\\n",
    "T(K) & =  &\\frac{K}{\\sum_{i=1}^M v_i R_i }\\\\\n",
    "&&\\\\\n",
    "L_i(K) & = & T(K)v_i R_i(K)\\\\\n",
    "\\end{eqnarray}$$\n",
    "\n",
    "\n",
    "con condición inicial \n",
    "$$L_i(0) = 0$$\n",
    "\n",
    "\n",
    "Además en este caso, se tiene:\n",
    "$$U_i = \\frac{\\lambda_i}{\\mu_i} = T(K) \\frac{v_i}{\\mu_i}$$"
   ]
  },
  {
   "cell_type": "markdown",
   "metadata": {},
   "source": [
    "**Propuesto:** Utilice las ecuaciones de recurrencia para resolver la pregunta (c) del ejercicio anterior."
   ]
  },
  {
   "cell_type": "markdown",
   "metadata": {},
   "source": [
    "**Resolución:** Transformando la red cerrada en una abierta, nos queda:\n",
    "<img src=\"modelo4a.png\" width=\"500\">"
   ]
  },
  {
   "cell_type": "markdown",
   "metadata": {},
   "source": [
    "de donde:\n",
    "$$v_0 = 1  = v_1 p \\implies v_1 = \\frac{10}{3}$$ \n",
    "Resolviendo para los otros dos nodos (en la red cerrada):\n",
    "$$\\begin{eqnarray}\n",
    "v_2 & = & p v_1 + q v_2 + p v_3\\\\\n",
    "&&\\\\\n",
    "v_3 & = & p v_1 + p v_2 + q v_3\\\\\n",
    "\\end{eqnarray}\n",
    "$$\n",
    "\n",
    "cuya solución única es \n",
    "\n",
    "$$v_2 = v_3 = v_1 = \\frac{10}{3}$$"
   ]
  },
  {
   "cell_type": "code",
   "execution_count": 3,
   "metadata": {},
   "outputs": [
    {
     "name": "stdout",
     "output_type": "stream",
     "text": [
      "        [,1]      [,2]      [,3]\n",
      "L 0.66312114 0.9892279 8.3476510\n",
      "U 0.39946365 0.4993296 0.9986591\n",
      "R 0.01660029 0.0247639 0.2089715\n"
     ]
    }
   ],
   "source": [
    "# ecuacions de recurrencia\n",
    "\n",
    "N=10\n",
    "L <- rep(0,3)\n",
    "R <- rep(0,3)\n",
    "u <- c(100,80,40)\n",
    "v <- rep(10/3,3)\n",
    "for (k in 1:10){\n",
    "    R <- (L+1)/u\n",
    "    T <- k/(t(v)%*%R)\n",
    "    L <- T[1]*v*R\n",
    "}\n",
    "U <- T[1]*v/u\n",
    "print(rbind(L,U,R))"
   ]
  },
  {
   "cell_type": "markdown",
   "metadata": {},
   "source": [
    "### Formulación Alternativa\n",
    "Supongamos que en lugar de conocer las tasas medias de visita $v_i$, tenemos a nuestra disposición las demandas totales de servicio de cada trabajo en el sistema: $D_i = \\frac{v_i}{\\mu_i}, i=1,\\cdots,M$ entonces podemos reescribir las relaciones de recurrencia como sigue:\n",
    "$$\\begin{eqnarray}\n",
    "R_i(K)& = & \\frac{1}{\\mu_i}( L_i(K-1)+1)\\\\\n",
    "&&\\\\\n",
    "T(K) & =  &\\frac{K}{\\sum_{n=1}^M \\mu_i D_i  R_i }\\\\\n",
    "&&\\\\\n",
    "L_i(K) & = & T(K)\\mu_i D_i R_i(K)\\\\\n",
    "\\end{eqnarray}$$\n",
    "\n",
    "\n",
    "con condición inicial \n",
    "$$L_i(0) = 0$$\n",
    "\n",
    "Además la utilización del nodo $i$ queda:\n",
    "$$U_i = \\frac{\\lambda_i}{\\mu_i} = \\frac{T(K)v_i}{\\mu_i} = T(K) D_i \\leq 1$$\n",
    "\n",
    "Con lo que tenemos una cota superior para la tasa de proceso del sistema:\n",
    "\n",
    "$$T(K) \\leq \\frac{1}{D_i} \\qquad i=1,\\cdots,M$$\n",
    "\n",
    "por lo que \n",
    "\n",
    "$$T(K) \\leq \\min_{i=1,\\cdots,M} \\left\\{\\frac{1}{D_i} \\right\\}$$\n",
    "\n",
    "De manera que la tasa de proceso máxima, estará dada por el dispositivo cuello de botella, que es aquel de demanda de servicio máxima:\n",
    "$$D_{\\text{max}}= \\max_{i=1,\\cdots,M} D_i$$\n",
    "\n"
   ]
  },
  {
   "cell_type": "code",
   "execution_count": null,
   "metadata": {},
   "outputs": [],
   "source": []
  }
 ],
 "metadata": {
  "celltoolbar": "Slideshow",
  "kernelspec": {
   "display_name": "R",
   "language": "R",
   "name": "ir"
  },
  "language_info": {
   "codemirror_mode": "r",
   "file_extension": ".r",
   "mimetype": "text/x-r-source",
   "name": "R",
   "pygments_lexer": "r",
   "version": "3.6.1"
  }
 },
 "nbformat": 4,
 "nbformat_minor": 2
}

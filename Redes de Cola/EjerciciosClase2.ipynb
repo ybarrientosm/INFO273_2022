{
 "cells": [
  {
   "cell_type": "markdown",
   "metadata": {
    "slideshow": {
     "slide_type": "slide"
    }
   },
   "source": [
    "## Redes de Jackson\n",
    "**Clase 2**\n",
    "\n",
    "Una red de Jackson con nodos $1,2,\\cdots,M$ se define como sigue:\n",
    "- el tiempo de servicio del nodo $i$ tiene una distribución exponencial de tasa $\\mu_i(n)$, con $n$ el número de trabajos en el nodo.\n",
    "- un trabajo que termina su servicio en un nodo, escoge con alguna probabilidad dejar el sistema o ingresar a otro nodo, independientemente de su historia\n",
    "- la red es abierta y las llegadas externas al nodo $i$ siguen un proceso de Poisson.\n",
    "\n",
    "El espacio de estados en una red de Jackson está dado por:\n",
    "\n",
    "$$ S = \\{ \\vec{n} = (n_1,\\cdots,n_M) \\in \\mathbb{N}^M \\mid n_i \\geq 0\\}$$"
   ]
  },
  {
   "cell_type": "markdown",
   "metadata": {},
   "source": [
    "**Ejercicio:** Considere un sistema de comercio electrónico caracterizado por  dos nodos, el primero de ellos con 1 servidor y el segundo con dos servidores. Ambos nodos reciben solicitudes de servicio según procesos de Poisson de tasa 24 solicitudes por minuto en el caso del nodo 1 y 36 solicitudes por minuto en el caso del nodo 2.\n",
    "Ambos nodos tienen servidores con tiempos de servicio exponencial. El servidor del primer nodo puede atender una media de 100 solicitudes por minuto, mientras que cada uno de los servidores del segundo nodo lo hace con una media de 60 solicitudes por minuto.\n",
    "Cuando una solicitud está a punto de finalizar su servicio en el nodo 2, en el 25% de los casos  se crea una nueva solicitud hija en el nodo 1, en otro caso termina totalmente su ejecución.\n",
    "Por otra parte, las solicitudes que se encuentran a punto de finalizar su servicio en el nodo 1, en el 20% de los casos  crean una nueva solicitud hija en el nodo 1, en otro caso  envían una nueva solicitud hija al nodo 2.\n",
    "\n",
    "**(a)**\tModele este sistema como una red de colas abiertas: Dibuje la red de colas y el grafo asociado.\n",
    "\n",
    "**(b)**\tCalcule las tasas de proceso de cada nodo\n",
    "\n",
    "**(c)**\tCalcule el número medio de solicitudes en cada nodo y el tiempo medio que tarda una solicitud completa (incluyendo solicitudes hijas) en la red.\n"
   ]
  },
  {
   "cell_type": "markdown",
   "metadata": {},
   "source": [
    "**Resolución:**\n",
    "**(a)** De acuerdo a la descripción, el modelo de red de colas resulta ser:\n",
    "<img src=\"ejercicio2.png\" width=\"500\">\n",
    "con\n",
    "$$\\gamma_1 = 24[s/m],\\qquad \\gamma_2 = 36[s/m],\\qquad \\mu_1 = 100[s/m], \\qquad\\mu_2 = 60[s/m],\\qquad p=\\frac{1}{4} \\qquad\\text{y}\\qquad q=\\frac{1}{5}$$\n",
    "\n"
   ]
  },
  {
   "cell_type": "markdown",
   "metadata": {},
   "source": [
    "Y el grafo respectivo queda:\n",
    "<img src=\"ejercicio2a.png\" width=\"500\">"
   ]
  },
  {
   "cell_type": "markdown",
   "metadata": {},
   "source": [
    "**(b)** Las Ecuaciones de balance de flujo quedan:\n",
    "$$\\lambda_1 = \\gamma_1 + q \\lambda_1 + p \\lambda_2 $$\n",
    "$$\\lambda_2 = \\gamma_2 + (1-q) \\lambda_1 $$\n",
    "\n",
    "Reemplazando la segunda ecuación en a primera queda:\n",
    "$$\\lambda_1 = \\gamma_1 + q \\lambda_1 + p (\\gamma_2 + (1-q) \\lambda_1) $$\n",
    "\n",
    "Y despejando $\\lambda_1$\n",
    "$$\\lambda_1 = \\frac{\\gamma_1+ p \\gamma_2}{(1-p)(1-q)} $$\n",
    "\n",
    "y luego\n",
    "$$\\lambda_2 = \\gamma_2 + (1-q) \\frac{\\gamma_1+ p \\gamma_2}{(1-p)(1-q)}\n",
    "=\\frac{(1-p)\\gamma_2+\\gamma_1+p\\gamma_2}{(1-p)}\n",
    "=\\frac{\\gamma_1+\\gamma_2}{(1-p)}$$\n",
    "\n",
    "Así\n",
    "$$\\lambda_1 =\\frac{24+\\frac{1}{4}36}{\\frac{3}{4}\\frac{4}{5}}\n",
    "=33\\frac{5}{3}\n",
    "= 55[s/m]$$\n",
    "\n",
    "$$\\lambda_2 =\\frac{24+36}{\\frac{3}{4}}=80[s/m]$$"
   ]
  },
  {
   "cell_type": "markdown",
   "metadata": {},
   "source": [
    "**(c)** Como el nodo 1 es SSFR, entonce se pueden aplicar directamente la expresion:\n",
    "$$L_1=\\frac{\\rho_1}{1-\\rho_1}$$\n",
    "\n",
    "como \n",
    "$$\\rho_1=\\frac{\\lambda_1}{\\mu_1}\n",
    "=\\frac{55}{110}=\\frac{1}{2}\\implies L_1=\\frac{\\frac{1}{2}}{1-\\frac{1}{2}}=1$$\n",
    "\n",
    "En el caso del nodo 2, que tiene tasa de servicio dependiente de la carga, es necesario calcular las probabilidades en el equilibrio ara este nodo, amqtes de $L_2$. De la fórmula general se tiene:\n",
    "\n",
    "$$\\pi_2(j)=\\pi_{02} \\frac{\\lambda_2^{j}}{\\prod_{l=1}^{j} \\mu_2(l)}\\qquad \\text{con} \\qquad\n",
    "\\mu_2(l) = \\left \\{\\begin{array}{ll}\n",
    "\\mu_2  & l=1\\\\\n",
    "&\\\\\n",
    "2\\left(\\mu_2 \\right) & l \\geq 2\\\\\n",
    "\\end{array} \\right. $$\n",
    "\n",
    "Entonces\n",
    "$$\\pi_2(j)=2\\pi_{02} \\left(\\frac{\\lambda_2}{2 \\mu_2}\\right)^{j} \\qquad j \\geq 1 $$\n",
    "\n",
    "Calculamos $\\pi_{02}$:\n",
    "$$\\sum_{j=1}^\\infty \\pi_2(j)=1 \\implies \\qquad \\pi_{02} \\left( 1+2\\sum_{j=1}^\\infty  \\left(\\frac{ \\lambda_2}{2\\mu_2}^{j} \\right) \\right)=1$$\n",
    "\n",
    "Notando $\\rho_2=\\frac{\\lambda_2}{2\\mu_2}$ tenemos que:\n",
    "\n",
    "$$\\sum_{j=1}^\\infty \\rho_2^{j}\n",
    "=\\sum_{j=0}^\\infty \\rho_2^{j}-1\n",
    "=\\frac{1}{1-\\rho_2}-1=\n",
    "\\frac{\\rho_2}{1-\\rho_2}$$\n",
    "\n",
    "y así\n",
    "$$\\pi_{02}= \\left( 1+\\frac{2 \\rho_2}{1-\\rho_2} \\right)^{-1}\n",
    "= \\frac{1-\\rho_2}{1+\\rho_2}$$\n",
    "\n",
    "Ahora\n",
    "$$L_2=\\sum_{j=1}^\\infty j\\pi_2(j)= \\frac{2(1-\\rho_2)}{1+\\rho_2}\\sum_{j=1}^\\infty j\\rho_2^{j}\n",
    "=\\frac{2(1-\\rho_2)}{1+\\rho_2}\\frac{\\rho_2}{(1-\\rho_2)^{2}}=\n",
    "\\frac{2\\rho_2}{1-\\rho_2^{2}}$$\n"
   ]
  },
  {
   "cell_type": "markdown",
   "metadata": {},
   "source": [
    "**(d)** \n",
    "Reemplazando\n",
    "$$\\rho_2=\\frac{80}{2*60}=\\frac{2}{3}\\implies L_2=\\frac{2\\frac{2}{3}}{1-\\frac{4}{9}}=\\frac{12}{5}$$\n",
    "Así,\n",
    "$$R=\\frac{L_1+L_2}{\\gamma_1+\\gamma_2}\n",
    "=\\frac{1+\\frac{12}{5}}{24+36}=\\frac{17}{5*60}=\\frac{17}{300}[m]$$"
   ]
  },
  {
   "cell_type": "markdown",
   "metadata": {},
   "source": [
    "**Ejercicio:**\n",
    "Considere la siguiente información referida al modelo de un sistema informático donde los tiempos se expresan en milisegundos. \n",
    "$$\\begin{array}{| c | c | c | c |}\n",
    "\\hline\n",
    "\\text{Nodo} & \\text{Dispositivo} & \\text{Tiempo medio} & \\text{Tasa}  \\\\\n",
    "&& \\text{de servicio} & \\text{de visitas} \\\\ \\hline\n",
    "1 & \\text{Procesador} & 0,5 & 25 \\\\\n",
    "2 & \\text{Disco A} & 0,3 & 12 \\\\\n",
    "3 & \\text{Disco B}& 3 & 15 \\\\ \\hline\n",
    "\\end{array} $$\n",
    "\n",
    "El sistema recibe en media 20 peticiones por segundo durante el mediodía, que corresponde al segmento horario de mayor actividad\n",
    "\n",
    "a) Modele el sistema como una red de colas abiertas\n",
    "\n",
    "b) Calcule las medidas de desempeño de cada nodo: $U_i$, $L_i$ y  $R_i$\n",
    "\n",
    "c) Calcule el tiempo medio de respuesta del sistema\n",
    "\n",
    "d) Calcule la mejora en  el tiempo medio de respuesta del sistema si se reemplaza el disco más lento (B) por uno idéntico al rápido.\n"
   ]
  },
  {
   "cell_type": "markdown",
   "metadata": {},
   "source": [
    "**Resolución**\n",
    "\n",
    "**(a)** Modelamos el sistema como una red abierta en que se puede calcular la demanda de cada nodo como:\n",
    "$$D_i = \\frac{v_i}{\\mu_i} = v_i E(S_i) \\qquad \\text{y también} \\qquad \\rho_i = \\gamma D_i\\qquad \\text{con} \\qquad \\gamma= 20[p/s] = 0,02[p/ms]$$\n",
    "\n",
    "Calculando estos valores para cada nodo, tenemos:\n",
    "\n",
    "$$\\begin{array}{| c | c | c | c | c| c|}\n",
    "\\hline\n",
    "\\text{Nodo} & \\text{Dispositivo} & \\text{Tiempo medio} & \\text{Tasa} & \\text{Demanda} & \\rho_i \\\\\n",
    "&& \\text{de servicio }E(S_i) & \\text{de visitas }v_i & D_i &\\\\ \\hline\n",
    "1 & \\text{Procesador} & 0,5 & 25  & 12,5 & 0,25\\\\\n",
    "2 & \\text{Disco A} & 0,3 & 12 & 3,6 & 0,072 \\\\\n",
    "3 & \\text{Disco B}& 3 & 15 & 45 & 0,90\\\\ \\hline\n",
    "\\end{array} $$"
   ]
  },
  {
   "cell_type": "markdown",
   "metadata": {},
   "source": [
    "\n",
    "\n",
    "**(b)** Considerando las expresiones para el cálculo de las medidas de desempeño en función de los parámetros anteriores:\n",
    "$$U_i = \\rho_i,\\qquad \\qquad L_i=\\frac{\\rho_i}{1-\\rho_i}, \\qquad \\qquad R_i = \\frac{E(S_i)}{1-\\rho_i} $$\n",
    "\n",
    "Completamos la tabla\n",
    "$$\\begin{array}{| c | c | c | c | c| c| c| c| c|}\n",
    "\\hline\n",
    "\\text{Nodo} & \\text{Dispositivo} & \\text{Tiempo medio} & \\text{Tasa} & \\text{Demanda} & \\rho_i & U_i & L_i & R_i[ms] \\\\\n",
    "&& \\text{de servicio }E(S_i) & \\text{de visitas }v_i & D_i &\\\\ \\hline\n",
    "1 & \\text{Procesador} & 0,5 & 25  & 12,5 & 0,25  & 0,25 & \\frac{1}{3} & \\frac{2}{3}\\\\\n",
    "2 & \\text{Disco A} & 0,3 & 12 & 3,6 & 0,072 & 0,072 & 0,0776 & 0,323\\\\\n",
    "3 & \\text{Disco B}& 3 & 15 & 45 & 0,90 & 0,9 & 9 & 30\\\\ \\hline\n",
    "\\end{array} $$"
   ]
  },
  {
   "cell_type": "markdown",
   "metadata": {},
   "source": [
    "\n",
    "\n",
    "**(c)** El tiempo de respuesta del sistema es:\n",
    "$$R=\\frac{L_1+L_2+L_3}{\\gamma}\n",
    "= \\frac{\\frac{1}{3}+0,0776 + 9}{0,02}= 470,545[ms]$$\n",
    "\n",
    "Si $E(S_3) = 0,3$ entonces $D_3 = 4,5$ y $\\rho_3=0,09$, $L_3 = 0,0989$ de manera que:\n",
    "$$R_{nuevo} =\\frac{L_1+L_2+L_3}{\\gamma}\n",
    "= \\frac{\\frac{1}{3}+0,0776 + 0,0989}{0,02}= 25,49[ms]$$\n",
    "\n",
    "La razón:\n",
    "$$\\frac{R}{R_{nuevo}}=\\frac{470,545}{25,49}=18,46 $$\n",
    "\n",
    "Es decir, con el reemplazo del disco, el nuevo sistema es 18,46 veces más rápido que el original.\n"
   ]
  },
  {
   "cell_type": "code",
   "execution_count": null,
   "metadata": {},
   "outputs": [],
   "source": []
  },
  {
   "cell_type": "code",
   "execution_count": null,
   "metadata": {},
   "outputs": [],
   "source": []
  }
 ],
 "metadata": {
  "celltoolbar": "Slideshow",
  "kernelspec": {
   "display_name": "R",
   "language": "R",
   "name": "ir"
  },
  "language_info": {
   "codemirror_mode": "r",
   "file_extension": ".r",
   "mimetype": "text/x-r-source",
   "name": "R",
   "pygments_lexer": "r",
   "version": "4.1.3"
  }
 },
 "nbformat": 4,
 "nbformat_minor": 2
}

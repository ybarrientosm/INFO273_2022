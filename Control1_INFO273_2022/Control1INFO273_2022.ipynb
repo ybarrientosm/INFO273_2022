{
 "cells": [
  {
   "cell_type": "markdown",
   "metadata": {},
   "source": [
    "# Control 1 INFO273-2022\n",
    "\n",
    "### Pregunta 1 (2.5 puntos)\n",
    "\n",
    "Se tiene un servidor web de documentos. La tabla siguiente presenta los tiempos de procesador, de entrada/salida y de presencia en el sistema de los diez tipos de solicitudes de documentos a ese servidor web. \n",
    "En la tabla \"datosCarga2022.csv\" se muestran los valores medios de esos tres parámetros obtenidos tras procesar el archivo de monitorización y agrupar las solicitudes mediante un criterio cualitativo. El tiempo de ejecución corresponde al tiempo total que el servidor necesita para servir la solicitud.\n",
    "\n",
    "(i) Realice un agrupamiento de estos datos utilizando la distancia Euclídea y el método hclust de R con parámetro “single” (que corresponde a una estrategia en que la distancia entre grupos se define como el mínimo de la distancia entre pares de elementos formados por un elemento en cada grupo). Grafique el dendograma respectivo.\n",
    "\n",
    "ii) A partir del dendograma y los datos originales, decidir el número de grupos que es representativo de los distintos tipos de trabajos. Explique su decisión.\n",
    "\n",
    "iii) Calcule las nuevas medias de los parámetros involucrados en cada nueva clase y use estos valores para caracterizar las clases definidas. Realice una interpretación de cada una de las clases.\n"
   ]
  },
  {
   "cell_type": "code",
   "execution_count": 5,
   "metadata": {},
   "outputs": [
    {
     "name": "stdout",
     "output_type": "stream",
     "text": [
      "   Procesador_.ms. E.S_.ms. Ejecución_.ms.\n",
      "1              9.4     39.0             70\n",
      "2             12.9     10.0            144\n",
      "3             15.3     11.9            154\n",
      "4              8.7     39.0             64\n",
      "5             11.0     90.0            112\n",
      "6             17.0    140.0            162\n",
      "7            216.0   1200.0           4400\n",
      "8            130.0    120.0            152\n",
      "9             90.0     50.0            150\n",
      "10           170.0    140.0            190\n"
     ]
    },
    {
     "data": {
      "text/plain": [
       " Procesador_.ms.     E.S_.ms.    Ejecución_.ms.  \n",
       " Min.   :  8.70   Min.   :  10   Min.   :  64.0  \n",
       " 1st Qu.: 11.47   1st Qu.:  39   1st Qu.: 120.0  \n",
       " Median : 16.15   Median :  70   Median : 151.0  \n",
       " Mean   : 68.03   Mean   : 184   Mean   : 559.8  \n",
       " 3rd Qu.:120.00   3rd Qu.: 135   3rd Qu.: 160.0  \n",
       " Max.   :216.00   Max.   :1200   Max.   :4400.0  "
      ]
     },
     "metadata": {},
     "output_type": "display_data"
    }
   ],
   "source": [
    "#ruta datos\n",
    "#lee datos del archivo de texto como una matriz. La primera #fila se utiliza \n",
    "#como vector de nombres de las columnas\n",
    "datos1 <-read.table(\"datosCarga2022.csv\",dec=\",\",sep=\";\",header=TRUE)\n",
    "print(datos1[,2:4])\n",
    "summary(datos1[,2:4])"
   ]
  },
  {
   "cell_type": "markdown",
   "metadata": {},
   "source": [
    "### Pregunta 2 (2.5 puntos)\n",
    "En la tabla \"monitorizacion2022.csv\", se muestra el resultado de la monitorización de la actividad de un programa escrito en C mediante la herramienta gprof. Sin embargo, debido a errores de tipo técnico, el informe obtenido carece de algunos datos que han sido marcados mediante el símbolo “x”. Como información adicional, el grafo de llamadas que proporciona la herramienta de monitorización indica que todos los procedimientos son llamados únicamente desde el programa principal main(), excepto ordena(), que es llamado dentro del procedimiento procesa().Se pide resolver lo siguiente:\n",
    "\n",
    "(i)    Tiempo que tarda en ejecutarse el procedimiento más rápido del programa.\n",
    "\n",
    "(ii)   Tiempo que tarda en ejecutarse el procedimiento más lento del programa.\n",
    "\n",
    "(iii)  ¿Cuántas llamadas se hacen a ordena desde el procedimiento procesa?\n",
    "\n",
    "(iv)   Tiempo que tarda en ejecutarse el código propio de procesa, esto es, sin tener en cuenta las llamadas realizadas al procedimiento ordena.\n",
    "\n",
    "(v)    Indique qué alternativa, de las dos que se enumeran a continuación, permite disminuir más el tiempo de ejecución del programa completo: reducir a 20 el número de llamadas a ordena o rebajar su tiempo de ejecución a 300 ms por llamada.\n"
   ]
  },
  {
   "cell_type": "code",
   "execution_count": 64,
   "metadata": {
    "scrolled": true
   },
   "outputs": [
    {
     "name": "stdout",
     "output_type": "stream",
     "text": [
      "  Porcentaje_time cumulative_seconds self_seconds calls self_ms.call\n",
      "1           94.77              26.11        26.11  xxxx       522.20\n",
      "2            2.54              26.81         0.70     2       350.00\n",
      "3            2.11              27.39         0.58     3       193.33\n",
      "4            0.58              27.55         xxxx     1       160.00\n",
      "  total_ms.call      name\n",
      "1        522.20    ordena\n",
      "2        350.00  invierte\n",
      "3         xxxxx normaliza\n",
      "4      26270.00   procesa\n"
     ]
    }
   ],
   "source": [
    "datos2 <-read.table(\"monitorizacion2022.csv\",dec=\".\",sep=\";\",header=TRUE)\n",
    "print(datos2)\n"
   ]
  },
  {
   "cell_type": "markdown",
   "metadata": {},
   "source": [
    "### Pregunta 3 (1 punto)\n",
    "\n",
    "i) Explique brevemente los conceptos de  monitoreo y benchmark de sistemas computacionales. Indique sus principales características y diferencias.\n",
    "\n",
    "ii) Explique brevemente en que consiste el benchmark/monitor escogido en la tarea, incluya principales características, ventajas y desventajas y ámbitos de aplicación\n"
   ]
  },
  {
   "cell_type": "code",
   "execution_count": null,
   "metadata": {},
   "outputs": [],
   "source": []
  }
 ],
 "metadata": {
  "celltoolbar": "Raw Cell Format",
  "kernelspec": {
   "display_name": "R",
   "language": "R",
   "name": "ir"
  },
  "language_info": {
   "codemirror_mode": "r",
   "file_extension": ".r",
   "mimetype": "text/x-r-source",
   "name": "R",
   "pygments_lexer": "r",
   "version": "4.1.3"
  }
 },
 "nbformat": 4,
 "nbformat_minor": 2
}

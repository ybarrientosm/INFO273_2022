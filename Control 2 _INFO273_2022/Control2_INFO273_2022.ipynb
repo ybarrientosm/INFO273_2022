{
 "cells": [
  {
   "cell_type": "markdown",
   "metadata": {},
   "source": [
    "## Control 2 INFO273-2022. Redes de Colas\n",
    "Utilice papel y lápiz para los desarrollos teóricos, les toma una foto y los incorpora como imagen en este notebook.\n",
    "Para las partes que requieren cáculos matemáticos utilice código incrustado (en R o Python según sea su conveniencia).\n",
    "Suba la carpeta comprimida con sus respuestas al espacio definido en siveducMD."
   ]
  },
  {
   "cell_type": "markdown",
   "metadata": {},
   "source": [
    "**1.** Considere el modelo de un sistema informático que consta de un procesador y dos unidades de disco magnético idénticas. Los trabajos del sistema siguen el comportamiento de un servidor central. Las razones de visita y los tiempos de servicio (en segundos) se detallan en la siguiente tabla:\n",
    "\n",
    "$$\\begin{array}{| c | c | c | c |}\n",
    "\\hline\n",
    "\\text{Nodo} & \\text{Dispositivo} & \\text{Tiempo medio} & \\text{Tasa}  \\\\\n",
    "&& \\text{de servicio} & \\text{de visitas} \\\\ \\hline\n",
    "1 & \\text{Procesador (1)} & 0,01 & 25 \\\\\n",
    "2 & \\text{Disco A (2)} & 0,04 & 12 \\\\\n",
    "3 & \\text{Disco B (3)}& 0,04 & 12 \\\\ \\hline\n",
    "\\end{array} $$\n",
    "\n",
    "**(1)** Suponga  que el sistema es sometido a una carga transaccional, con una tasa llegadas de dos trabajos por segundo. Modele este sistema con una red de colas abierta y calcule:\n",
    "\n",
    "**(a)**  Para cada nodo la utilización, número medio de trabajos y tiempo de respuesta. ¿Cuál es el tiempo de respuesta del sistema informático?\n",
    "\n",
    "**(b)**  ¿Cuál es la productividad (tasa de proceso) máxima que soporta este sistema?\n",
    "\n",
    "**(c)**  ¿Qué pasaría si se reemplazan los dos discos por uno nuevo con un tiempo de servicio de 0,03 segundos? ¿Cuál es el nuevo tiempo de respuesta?"
   ]
  },
  {
   "cell_type": "markdown",
   "metadata": {},
   "source": [
    "**2.** Considere un sistema cliente-servidor en que $K=10$  clientes  se conectan a una base de datos mediante una red Ethernet. El servidor se representa por un nodo con tasa de servicio $\\mu_3 = 6[req/s]$. El nodo 2 representa la red Ethernet cuya tasa de servicio $\\mu_2 = 42[req/s]$ con una retroalimentación del 10% modelando la tasa de fallos.  La tasa media de reflexión de los clientes (Nodo 1) es $\\mu_1 = 1[req/s]$ \n",
    "\n",
    "Modele este sistema como una red de colas cerradas en que suponemos tiempos de servicio exponencial en cada nodo y las siguientes probabilidades de ruteo:\n",
    "\n",
    "$$q_{12} = 1 \\qquad q_{32}=1 $$\n",
    "\n",
    "$$q_{21} = 0.4 \\qquad q_{22}= 0.1 \\qquad q_{23} = 0.5$$\n",
    "\n",
    "**(a)** Dibuje la red de colas y el grafo asociado y resuelva las ecs. de balance de flujo.\n",
    "\n",
    "**(b)** Determine todas las medidas de desempeño de la red con alguno de los métodos que conoce. Comente sus resultados.\n",
    "\n",
    "**(c)** Suponga que el número de estaciones de trabajo (clientes) en el sistema es variable, con $k=2,11, ...30$.  Grafique el comportamiento de la tasa de proceso del sistema en función de $k$. Interprete sus resultados."
   ]
  }
 ],
 "metadata": {
  "kernelspec": {
   "display_name": "R",
   "language": "R",
   "name": "ir"
  },
  "language_info": {
   "codemirror_mode": "r",
   "file_extension": ".r",
   "mimetype": "text/x-r-source",
   "name": "R",
   "pygments_lexer": "r",
   "version": "4.1.3"
  }
 },
 "nbformat": 4,
 "nbformat_minor": 2
}
